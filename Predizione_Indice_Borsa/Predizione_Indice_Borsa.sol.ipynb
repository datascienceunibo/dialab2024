{
 "cells": [
  {
   "cell_type": "markdown",
   "metadata": {
    "slideshow": {
     "slide_type": "slide"
    }
   },
   "source": [
    "# Laboratorio: Predizione di un Indice di Borsa\n",
    "\n",
    "**Programmazione di Applicazioni Data Intensive**  \n",
    "Laurea in Ingegneria e Scienze Informatiche  \n",
    "DISI - Università di Bologna, Cesena\n",
    "\n",
    "Proff. Gianluca Moro, Roberto Pasolini  \n",
    "`nome.cognome@unibo.it`"
   ]
  },
  {
   "cell_type": "markdown",
   "metadata": {
    "slideshow": {
     "slide_type": "slide"
    }
   },
   "source": [
    "## Setup\n",
    "\n",
    "Importare le librerie necessarie"
   ]
  },
  {
   "cell_type": "code",
   "execution_count": 1,
   "metadata": {},
   "outputs": [],
   "source": [
    "import numpy as np\n",
    "import pandas as pd\n",
    "import matplotlib.pyplot as plt\n",
    "import sklearn\n",
    "%matplotlib inline"
   ]
  },
  {
   "cell_type": "markdown",
   "metadata": {
    "slideshow": {
     "slide_type": "slide"
    }
   },
   "source": [
    "## Predizione di un indice di borsa\n",
    "\n",
    "Un _indice_ in borsa è la sintesi del valore di diversi titoli azionari (_componenti_): il suo valore è una media (di solito ponderata) dei valori dei singoli titoli\n",
    "\n",
    "In questa esercitazione consideriamo l'indice _Standard & Poor 500_ (S&P 500), che ha per componenti [circa 500 grandi aziende degli USA](https://en.wikipedia.org/wiki/List_of_S%26P_500_companies), incluse ad es. Alphabet (Google), Facebook, Apple, ...\n",
    "\n",
    "L'obiettivo è generare modelli in grado di **prevedere le variazioni** dell'indice S&P 500, in modo da **massimizzare il guadagno** ottenuto investendo in un fondo che si basa su tale indice"
   ]
  },
  {
   "cell_type": "markdown",
   "metadata": {
    "slideshow": {
     "slide_type": "slide"
    }
   },
   "source": [
    "## Estrazione dati\n",
    "\n",
    "I dati storici sull'andamento di S&P 500 e altri indici e titoli di borsa sono disponibili su diversi siti specializzati, ad es. [Yahoo! Finance](https://finance.yahoo.com/)\n",
    "\n",
    "Dal sito è possibile interattivamente ricercare titoli e indici e consultarne i dati attuali e storici, scaricandoli eventualmente in formato CSV\n",
    "\n",
    "È però spesso possibile estrarre i dati forniti anche tramite codice, effettuando opportune operazioni per importarli in strutture dati appropriate\n",
    "\n",
    "Esistono alcune librerie che forniscono funzioni di alto livello per importare dati da Yahoo! Finance e altri fonti simili: queste gestiscono automaticamente il reperimento dei dati dagli URL corretti ed il loro parsing"
   ]
  },
  {
   "cell_type": "markdown",
   "metadata": {
    "slideshow": {
     "slide_type": "slide"
    }
   },
   "source": [
    "### yfinance\n",
    "\n",
    "[yfinance](https://pypi.org/project/yfinance/) è una libreria per l'estrazione di dati da Yahoo! Finance in forma di oggetti Python facilmente interrogabili\n",
    "\n",
    "In particolare, la usiamo per ottenere i dati storici di titoli e indici in forma di DataFrame pandas\n",
    "\n",
    "Eseguire la seguente cella di codice per installare yfinance (e il package lxml necessario) nell'ambiente virtuale in uso _(nel caso di problemi con la libreria, i dati necessari per l'esercitazione sono disponibili anche in un file indicato sotto)_"
   ]
  },
  {
   "cell_type": "code",
   "execution_count": 2,
   "metadata": {},
   "outputs": [
    {
     "name": "stdout",
     "output_type": "stream",
     "text": [
      "Requirement already satisfied: yfinance in /home/pasolini/.venvs/dia/lib/python3.11/site-packages (0.2.38)\n",
      "Requirement already satisfied: lxml in /home/pasolini/.venvs/dia/lib/python3.11/site-packages (5.2.2)\n",
      "Requirement already satisfied: pandas>=1.3.0 in /home/pasolini/.venvs/dia/lib/python3.11/site-packages (from yfinance) (1.5.3)\n",
      "Requirement already satisfied: numpy>=1.16.5 in /home/pasolini/.venvs/dia/lib/python3.11/site-packages (from yfinance) (1.23.5)\n",
      "Requirement already satisfied: requests>=2.31 in /home/pasolini/.venvs/dia/lib/python3.11/site-packages (from yfinance) (2.31.0)\n",
      "Requirement already satisfied: multitasking>=0.0.7 in /home/pasolini/.venvs/dia/lib/python3.11/site-packages (from yfinance) (0.0.11)\n",
      "Requirement already satisfied: appdirs>=1.4.4 in /home/pasolini/.venvs/dia/lib/python3.11/site-packages (from yfinance) (1.4.4)\n",
      "Requirement already satisfied: pytz>=2022.5 in /home/pasolini/.venvs/dia/lib/python3.11/site-packages (from yfinance) (2024.1)\n",
      "Requirement already satisfied: frozendict>=2.3.4 in /home/pasolini/.venvs/dia/lib/python3.11/site-packages (from yfinance) (2.4.4)\n",
      "Requirement already satisfied: peewee>=3.16.2 in /home/pasolini/.venvs/dia/lib/python3.11/site-packages (from yfinance) (3.17.5)\n",
      "Requirement already satisfied: beautifulsoup4>=4.11.1 in /home/pasolini/.venvs/dia/lib/python3.11/site-packages (from yfinance) (4.12.3)\n",
      "Requirement already satisfied: html5lib>=1.1 in /home/pasolini/.venvs/dia/lib/python3.11/site-packages (from yfinance) (1.1)\n",
      "Requirement already satisfied: soupsieve>1.2 in /home/pasolini/.venvs/dia/lib/python3.11/site-packages (from beautifulsoup4>=4.11.1->yfinance) (2.5)\n",
      "Requirement already satisfied: six>=1.9 in /home/pasolini/.venvs/dia/lib/python3.11/site-packages (from html5lib>=1.1->yfinance) (1.16.0)\n",
      "Requirement already satisfied: webencodings in /home/pasolini/.venvs/dia/lib/python3.11/site-packages (from html5lib>=1.1->yfinance) (0.5.1)\n",
      "Requirement already satisfied: python-dateutil>=2.8.1 in /home/pasolini/.venvs/dia/lib/python3.11/site-packages (from pandas>=1.3.0->yfinance) (2.9.0.post0)\n",
      "Requirement already satisfied: charset-normalizer<4,>=2 in /home/pasolini/.venvs/dia/lib/python3.11/site-packages (from requests>=2.31->yfinance) (3.3.2)\n",
      "Requirement already satisfied: idna<4,>=2.5 in /home/pasolini/.venvs/dia/lib/python3.11/site-packages (from requests>=2.31->yfinance) (3.7)\n",
      "Requirement already satisfied: urllib3<3,>=1.21.1 in /home/pasolini/.venvs/dia/lib/python3.11/site-packages (from requests>=2.31->yfinance) (2.2.1)\n",
      "Requirement already satisfied: certifi>=2017.4.17 in /home/pasolini/.venvs/dia/lib/python3.11/site-packages (from requests>=2.31->yfinance) (2024.2.2)\n",
      "Note: you may need to restart the kernel to use updated packages.\n"
     ]
    }
   ],
   "source": [
    "pip install yfinance lxml"
   ]
  },
  {
   "cell_type": "markdown",
   "metadata": {
    "slideshow": {
     "slide_type": "slide"
    }
   },
   "source": [
    "Importare il modulo `yfinance`, verificandone così la corretta installazione"
   ]
  },
  {
   "cell_type": "code",
   "execution_count": 3,
   "metadata": {},
   "outputs": [],
   "source": [
    "import yfinance"
   ]
  },
  {
   "cell_type": "markdown",
   "metadata": {},
   "source": [
    "Per usare il modulo creiamo un oggetto `Ticker`, che rappresenta uno specifico titolo o indice\n",
    "\n",
    "Dobbiamo indicare il _simbolo_ del titolo o indice con cui vogliamo lavorare, che per S&P 500 è `^GSPC`"
   ]
  },
  {
   "cell_type": "code",
   "execution_count": 4,
   "metadata": {},
   "outputs": [],
   "source": [
    "sp500 = yfinance.Ticker(\"^GSPC\")"
   ]
  },
  {
   "cell_type": "markdown",
   "metadata": {},
   "source": [
    "Altri simboli di indici noti includono:\n",
    "\n",
    "- `^DJI`: Dow Jones Industrial Average\n",
    "- `^IXIC`: NASDAQ\n",
    "- `FTSEMIB.MI`: MIB (borsa di Milano)"
   ]
  },
  {
   "cell_type": "markdown",
   "metadata": {
    "slideshow": {
     "slide_type": "slide"
    }
   },
   "source": [
    "Da un `Ticker` possiamo usare il metodo `history` per ottenere un frame con i dati storici in un periodo specificato\n",
    "\n",
    "- con `start` e `end` specifichiamo l'intervallo di date desiderato\n",
    "- `actions=False` esclude alcune colonne con dati non disponibili per l'indice\n",
    "\n",
    "Scarichiamo i dati relativi agli anni dal 2001 al 2008"
   ]
  },
  {
   "cell_type": "code",
   "execution_count": 5,
   "metadata": {},
   "outputs": [],
   "source": [
    "data = sp500.history(start=\"2001-01-01\", end=\"2008-12-31\", actions=False)"
   ]
  },
  {
   "cell_type": "markdown",
   "metadata": {},
   "source": [
    "_In caso di problemi con yfinance, decommentare ed eseguire la seguente cella per importare gli stessi dati da un file già scaricato da noi_"
   ]
  },
  {
   "cell_type": "code",
   "execution_count": 6,
   "metadata": {},
   "outputs": [],
   "source": [
    "# data = pd.read_csv(\"https://git.io/Jfq8p\", index_col=\"Date\", parse_dates=[\"Date\"])"
   ]
  },
  {
   "cell_type": "code",
   "execution_count": 7,
   "metadata": {
    "slideshow": {
     "slide_type": "slide"
    }
   },
   "outputs": [
    {
     "data": {
      "text/html": [
       "<div>\n",
       "<style scoped>\n",
       "    .dataframe tbody tr th:only-of-type {\n",
       "        vertical-align: middle;\n",
       "    }\n",
       "\n",
       "    .dataframe tbody tr th {\n",
       "        vertical-align: top;\n",
       "    }\n",
       "\n",
       "    .dataframe thead th {\n",
       "        text-align: right;\n",
       "    }\n",
       "</style>\n",
       "<table border=\"1\" class=\"dataframe\">\n",
       "  <thead>\n",
       "    <tr style=\"text-align: right;\">\n",
       "      <th></th>\n",
       "      <th>Open</th>\n",
       "      <th>High</th>\n",
       "      <th>Low</th>\n",
       "      <th>Close</th>\n",
       "      <th>Volume</th>\n",
       "    </tr>\n",
       "    <tr>\n",
       "      <th>Date</th>\n",
       "      <th></th>\n",
       "      <th></th>\n",
       "      <th></th>\n",
       "      <th></th>\n",
       "      <th></th>\n",
       "    </tr>\n",
       "  </thead>\n",
       "  <tbody>\n",
       "    <tr>\n",
       "      <th>2001-01-02 00:00:00-05:00</th>\n",
       "      <td>1320.280029</td>\n",
       "      <td>1320.280029</td>\n",
       "      <td>1276.050049</td>\n",
       "      <td>1283.270020</td>\n",
       "      <td>1129400000</td>\n",
       "    </tr>\n",
       "    <tr>\n",
       "      <th>2001-01-03 00:00:00-05:00</th>\n",
       "      <td>1283.270020</td>\n",
       "      <td>1347.760010</td>\n",
       "      <td>1274.619995</td>\n",
       "      <td>1347.560059</td>\n",
       "      <td>1880700000</td>\n",
       "    </tr>\n",
       "    <tr>\n",
       "      <th>2001-01-04 00:00:00-05:00</th>\n",
       "      <td>1347.560059</td>\n",
       "      <td>1350.239990</td>\n",
       "      <td>1329.140015</td>\n",
       "      <td>1333.339966</td>\n",
       "      <td>2131000000</td>\n",
       "    </tr>\n",
       "    <tr>\n",
       "      <th>2001-01-05 00:00:00-05:00</th>\n",
       "      <td>1333.339966</td>\n",
       "      <td>1334.770020</td>\n",
       "      <td>1294.949951</td>\n",
       "      <td>1298.349976</td>\n",
       "      <td>1430800000</td>\n",
       "    </tr>\n",
       "    <tr>\n",
       "      <th>2001-01-08 00:00:00-05:00</th>\n",
       "      <td>1298.349976</td>\n",
       "      <td>1298.349976</td>\n",
       "      <td>1276.290039</td>\n",
       "      <td>1295.859985</td>\n",
       "      <td>1115500000</td>\n",
       "    </tr>\n",
       "  </tbody>\n",
       "</table>\n",
       "</div>"
      ],
      "text/plain": [
       "                                  Open         High          Low        Close  \\\n",
       "Date                                                                            \n",
       "2001-01-02 00:00:00-05:00  1320.280029  1320.280029  1276.050049  1283.270020   \n",
       "2001-01-03 00:00:00-05:00  1283.270020  1347.760010  1274.619995  1347.560059   \n",
       "2001-01-04 00:00:00-05:00  1347.560059  1350.239990  1329.140015  1333.339966   \n",
       "2001-01-05 00:00:00-05:00  1333.339966  1334.770020  1294.949951  1298.349976   \n",
       "2001-01-08 00:00:00-05:00  1298.349976  1298.349976  1276.290039  1295.859985   \n",
       "\n",
       "                               Volume  \n",
       "Date                                   \n",
       "2001-01-02 00:00:00-05:00  1129400000  \n",
       "2001-01-03 00:00:00-05:00  1880700000  \n",
       "2001-01-04 00:00:00-05:00  2131000000  \n",
       "2001-01-05 00:00:00-05:00  1430800000  \n",
       "2001-01-08 00:00:00-05:00  1115500000  "
      ]
     },
     "execution_count": 7,
     "metadata": {},
     "output_type": "execute_result"
    }
   ],
   "source": [
    "data.head()"
   ]
  },
  {
   "cell_type": "markdown",
   "metadata": {},
   "source": [
    "- Ciascuna riga corrisponde ad una data, indicata nell'indice `Date`\n",
    "  - non sono presenti le righe relative a giorni di chiusura del mercato\n",
    "- `Open` e `Close` riportano per ogni data il valore dell'indice all'apertura e alla chiusura del mercato\n",
    "- `High` e `Low` riportano i massimi e minimi giornalieri\n",
    "- `Volume` è il numero di titoli scambiati in giornata"
   ]
  },
  {
   "cell_type": "markdown",
   "metadata": {
    "slideshow": {
     "slide_type": "slide"
    }
   },
   "source": [
    "Per comodità, estraiamo una serie per ciascuna colonna, per potersi riferire ad esse con un unico nome\n",
    "\n",
    "_(notare che la serie `open` sovrascrive la funzione `open` di Python, quest'ultima se necessaria rimane accessibile come `__builtins__.open`)_"
   ]
  },
  {
   "cell_type": "code",
   "execution_count": 8,
   "metadata": {},
   "outputs": [],
   "source": [
    "open = data[\"Open\"]\n",
    "high = data[\"High\"]\n",
    "low = data[\"Low\"]\n",
    "close = data[\"Close\"]\n",
    "volume = data[\"Volume\"]"
   ]
  },
  {
   "cell_type": "markdown",
   "metadata": {
    "slideshow": {
     "slide_type": "slide"
    }
   },
   "source": [
    "Possiamo tracciare un grafico dell'andamento del titolo, prendendo come riferimento ad es. il valore dell'apertura"
   ]
  },
  {
   "cell_type": "code",
   "execution_count": 9,
   "metadata": {},
   "outputs": [
    {
     "data": {
      "image/png": "[encoded data removed]",
      "text/plain": [
       "<Figure size 1200x400 with 1 Axes>"
      ]
     },
     "metadata": {},
     "output_type": "display_data"
    }
   ],
   "source": [
    "open.plot(figsize=(12, 4));"
   ]
  },
  {
   "cell_type": "markdown",
   "metadata": {},
   "source": [
    "Esistono altri tipi di grafici appositi per mostrare l'andamento di titoli di borsa, ad es. i _candlestick chart_ (\"grafici a candela\"), per disegnarli si veda la libreria `mplfinance`, estensione di matplotlib"
   ]
  },
  {
   "cell_type": "markdown",
   "metadata": {
    "slideshow": {
     "slide_type": "slide"
    }
   },
   "source": [
    "### Esercizio 1: Analisi esplorativa\n",
    "\n",
    "- **(1a)** Estrarre le statistiche principali (media, dev. standard, ...) delle varie colonne (Open, Close, ...)\n",
    "- **(1b)** Ottenere una serie `hlm` col valore medio tra il massimo e il minimo giornalieri\n",
    "- **(1c)** Estrarre le statistiche principali di tale serie\n",
    "- **(1d)** Estrarre le statistiche principali di `hlm` suddivise per anno"
   ]
  },
  {
   "cell_type": "code",
   "execution_count": 11,
   "metadata": {},
   "outputs": [
    {
     "data": {
      "text/html": [
       "<div>\n",
       "<style scoped>\n",
       "    .dataframe tbody tr th:only-of-type {\n",
       "        vertical-align: middle;\n",
       "    }\n",
       "\n",
       "    .dataframe tbody tr th {\n",
       "        vertical-align: top;\n",
       "    }\n",
       "\n",
       "    .dataframe thead th {\n",
       "        text-align: right;\n",
       "    }\n",
       "</style>\n",
       "<table border=\"1\" class=\"dataframe\">\n",
       "  <thead>\n",
       "    <tr style=\"text-align: right;\">\n",
       "      <th></th>\n",
       "      <th>Open</th>\n",
       "      <th>High</th>\n",
       "      <th>Low</th>\n",
       "      <th>Close</th>\n",
       "      <th>Volume</th>\n",
       "    </tr>\n",
       "  </thead>\n",
       "  <tbody>\n",
       "    <tr>\n",
       "      <th>count</th>\n",
       "      <td>2010.000000</td>\n",
       "      <td>2010.000000</td>\n",
       "      <td>2010.000000</td>\n",
       "      <td>2010.000000</td>\n",
       "      <td>2.010000e+03</td>\n",
       "    </tr>\n",
       "    <tr>\n",
       "      <th>mean</th>\n",
       "      <td>1187.474553</td>\n",
       "      <td>1195.450877</td>\n",
       "      <td>1178.652866</td>\n",
       "      <td>1187.302095</td>\n",
       "      <td>2.257390e+09</td>\n",
       "    </tr>\n",
       "    <tr>\n",
       "      <th>std</th>\n",
       "      <td>180.326713</td>\n",
       "      <td>179.563836</td>\n",
       "      <td>181.296274</td>\n",
       "      <td>180.433599</td>\n",
       "      <td>1.379745e+09</td>\n",
       "    </tr>\n",
       "    <tr>\n",
       "      <th>min</th>\n",
       "      <td>755.840027</td>\n",
       "      <td>798.549988</td>\n",
       "      <td>741.020020</td>\n",
       "      <td>752.440002</td>\n",
       "      <td>3.560700e+08</td>\n",
       "    </tr>\n",
       "    <tr>\n",
       "      <th>25%</th>\n",
       "      <td>1084.077454</td>\n",
       "      <td>1091.872528</td>\n",
       "      <td>1075.594971</td>\n",
       "      <td>1083.882446</td>\n",
       "      <td>1.359225e+09</td>\n",
       "    </tr>\n",
       "    <tr>\n",
       "      <th>50%</th>\n",
       "      <td>1190.229980</td>\n",
       "      <td>1195.979980</td>\n",
       "      <td>1183.635010</td>\n",
       "      <td>1190.229980</td>\n",
       "      <td>1.693850e+09</td>\n",
       "    </tr>\n",
       "    <tr>\n",
       "      <th>75%</th>\n",
       "      <td>1304.137512</td>\n",
       "      <td>1311.609985</td>\n",
       "      <td>1295.272522</td>\n",
       "      <td>1304.324982</td>\n",
       "      <td>2.696278e+09</td>\n",
       "    </tr>\n",
       "    <tr>\n",
       "      <th>max</th>\n",
       "      <td>1564.979980</td>\n",
       "      <td>1576.089966</td>\n",
       "      <td>1555.459961</td>\n",
       "      <td>1565.150024</td>\n",
       "      <td>1.145623e+10</td>\n",
       "    </tr>\n",
       "  </tbody>\n",
       "</table>\n",
       "</div>"
      ],
      "text/plain": [
       "              Open         High          Low        Close        Volume\n",
       "count  2010.000000  2010.000000  2010.000000  2010.000000  2.010000e+03\n",
       "mean   1187.474553  1195.450877  1178.652866  1187.302095  2.257390e+09\n",
       "std     180.326713   179.563836   181.296274   180.433599  1.379745e+09\n",
       "min     755.840027   798.549988   741.020020   752.440002  3.560700e+08\n",
       "25%    1084.077454  1091.872528  1075.594971  1083.882446  1.359225e+09\n",
       "50%    1190.229980  1195.979980  1183.635010  1190.229980  1.693850e+09\n",
       "75%    1304.137512  1311.609985  1295.272522  1304.324982  2.696278e+09\n",
       "max    1564.979980  1576.089966  1555.459961  1565.150024  1.145623e+10"
      ]
     },
     "execution_count": 11,
     "metadata": {},
     "output_type": "execute_result"
    }
   ],
   "source": [
    "# 1a\n",
    "data.describe()"
   ]
  },
  {
   "cell_type": "code",
   "execution_count": 12,
   "metadata": {},
   "outputs": [],
   "source": [
    "# 1b\n",
    "hlm = (high + low) / 2"
   ]
  },
  {
   "cell_type": "code",
   "execution_count": 13,
   "metadata": {},
   "outputs": [
    {
     "data": {
      "text/plain": [
       "count    2010.000000\n",
       "mean     1187.051872\n",
       "std       180.340289\n",
       "min       771.110016\n",
       "25%      1084.422501\n",
       "50%      1189.442474\n",
       "75%      1303.409988\n",
       "max      1561.404968\n",
       "dtype: float64"
      ]
     },
     "execution_count": 13,
     "metadata": {},
     "output_type": "execute_result"
    }
   ],
   "source": [
    "# 1c\n",
    "hlm.describe()"
   ]
  },
  {
   "cell_type": "code",
   "execution_count": 14,
   "metadata": {},
   "outputs": [
    {
     "data": {
      "text/html": [
       "<div>\n",
       "<style scoped>\n",
       "    .dataframe tbody tr th:only-of-type {\n",
       "        vertical-align: middle;\n",
       "    }\n",
       "\n",
       "    .dataframe tbody tr th {\n",
       "        vertical-align: top;\n",
       "    }\n",
       "\n",
       "    .dataframe thead th {\n",
       "        text-align: right;\n",
       "    }\n",
       "</style>\n",
       "<table border=\"1\" class=\"dataframe\">\n",
       "  <thead>\n",
       "    <tr style=\"text-align: right;\">\n",
       "      <th></th>\n",
       "      <th>count</th>\n",
       "      <th>mean</th>\n",
       "      <th>std</th>\n",
       "      <th>min</th>\n",
       "      <th>25%</th>\n",
       "      <th>50%</th>\n",
       "      <th>75%</th>\n",
       "      <th>max</th>\n",
       "    </tr>\n",
       "    <tr>\n",
       "      <th>Date</th>\n",
       "      <th></th>\n",
       "      <th></th>\n",
       "      <th></th>\n",
       "      <th></th>\n",
       "      <th></th>\n",
       "      <th></th>\n",
       "      <th></th>\n",
       "      <th></th>\n",
       "    </tr>\n",
       "  </thead>\n",
       "  <tbody>\n",
       "    <tr>\n",
       "      <th>2001</th>\n",
       "      <td>248.0</td>\n",
       "      <td>1193.689196</td>\n",
       "      <td>86.865939</td>\n",
       "      <td>964.644989</td>\n",
       "      <td>1136.603775</td>\n",
       "      <td>1191.602539</td>\n",
       "      <td>1254.802490</td>\n",
       "      <td>1374.015015</td>\n",
       "    </tr>\n",
       "    <tr>\n",
       "      <th>2002</th>\n",
       "      <td>252.0</td>\n",
       "      <td>993.878335</td>\n",
       "      <td>114.077936</td>\n",
       "      <td>787.174988</td>\n",
       "      <td>895.336250</td>\n",
       "      <td>968.600006</td>\n",
       "      <td>1107.357483</td>\n",
       "      <td>1170.260010</td>\n",
       "    </tr>\n",
       "    <tr>\n",
       "      <th>2003</th>\n",
       "      <td>252.0</td>\n",
       "      <td>964.632222</td>\n",
       "      <td>78.602540</td>\n",
       "      <td>796.545013</td>\n",
       "      <td>896.213753</td>\n",
       "      <td>985.644989</td>\n",
       "      <td>1028.395004</td>\n",
       "      <td>1109.385010</td>\n",
       "    </tr>\n",
       "    <tr>\n",
       "      <th>2004</th>\n",
       "      <td>252.0</td>\n",
       "      <td>1130.409743</td>\n",
       "      <td>31.444939</td>\n",
       "      <td>1064.149963</td>\n",
       "      <td>1110.626266</td>\n",
       "      <td>1126.692505</td>\n",
       "      <td>1142.978729</td>\n",
       "      <td>1214.940002</td>\n",
       "    </tr>\n",
       "    <tr>\n",
       "      <th>2005</th>\n",
       "      <td>252.0</td>\n",
       "      <td>1207.289366</td>\n",
       "      <td>29.553492</td>\n",
       "      <td>1144.360046</td>\n",
       "      <td>1187.330002</td>\n",
       "      <td>1204.835022</td>\n",
       "      <td>1228.238770</td>\n",
       "      <td>1271.455017</td>\n",
       "    </tr>\n",
       "    <tr>\n",
       "      <th>2006</th>\n",
       "      <td>251.0</td>\n",
       "      <td>1310.053308</td>\n",
       "      <td>50.920535</td>\n",
       "      <td>1225.375000</td>\n",
       "      <td>1273.427521</td>\n",
       "      <td>1296.955017</td>\n",
       "      <td>1336.912506</td>\n",
       "      <td>1428.554993</td>\n",
       "    </tr>\n",
       "    <tr>\n",
       "      <th>2007</th>\n",
       "      <td>251.0</td>\n",
       "      <td>1476.593744</td>\n",
       "      <td>44.426483</td>\n",
       "      <td>1376.034973</td>\n",
       "      <td>1442.607483</td>\n",
       "      <td>1475.619995</td>\n",
       "      <td>1512.577515</td>\n",
       "      <td>1561.404968</td>\n",
       "    </tr>\n",
       "    <tr>\n",
       "      <th>2008</th>\n",
       "      <td>252.0</td>\n",
       "      <td>1221.611490</td>\n",
       "      <td>190.555138</td>\n",
       "      <td>771.110016</td>\n",
       "      <td>1150.651276</td>\n",
       "      <td>1289.319977</td>\n",
       "      <td>1359.184998</td>\n",
       "      <td>1456.919983</td>\n",
       "    </tr>\n",
       "  </tbody>\n",
       "</table>\n",
       "</div>"
      ],
      "text/plain": [
       "      count         mean         std          min          25%          50%  \\\n",
       "Date                                                                          \n",
       "2001  248.0  1193.689196   86.865939   964.644989  1136.603775  1191.602539   \n",
       "2002  252.0   993.878335  114.077936   787.174988   895.336250   968.600006   \n",
       "2003  252.0   964.632222   78.602540   796.545013   896.213753   985.644989   \n",
       "2004  252.0  1130.409743   31.444939  1064.149963  1110.626266  1126.692505   \n",
       "2005  252.0  1207.289366   29.553492  1144.360046  1187.330002  1204.835022   \n",
       "2006  251.0  1310.053308   50.920535  1225.375000  1273.427521  1296.955017   \n",
       "2007  251.0  1476.593744   44.426483  1376.034973  1442.607483  1475.619995   \n",
       "2008  252.0  1221.611490  190.555138   771.110016  1150.651276  1289.319977   \n",
       "\n",
       "              75%          max  \n",
       "Date                            \n",
       "2001  1254.802490  1374.015015  \n",
       "2002  1107.357483  1170.260010  \n",
       "2003  1028.395004  1109.385010  \n",
       "2004  1142.978729  1214.940002  \n",
       "2005  1228.238770  1271.455017  \n",
       "2006  1336.912506  1428.554993  \n",
       "2007  1512.577515  1561.404968  \n",
       "2008  1359.184998  1456.919983  "
      ]
     },
     "execution_count": 14,
     "metadata": {},
     "output_type": "execute_result"
    }
   ],
   "source": [
    "# 1d\n",
    "hlm.groupby(hlm.index.year).describe()"
   ]
  },
  {
   "cell_type": "markdown",
   "metadata": {
    "slideshow": {
     "slide_type": "slide"
    }
   },
   "source": [
    "## Obiettivo: prevedere il valore di chiusura a inizio giornata\n",
    "\n",
    "Assumiamo che un agente investa quotidianamente sull'indice S&P 500\n",
    "\n",
    "Per investire in modo ottimale vogliamo addestrare un modello a **prevedere all'inizio di ogni giornata** `d` il valore `close[d]` dell'indice **a fine giornata**\n",
    "\n",
    "La variabile `close` è quindi quella da prevedere, la _y_"
   ]
  },
  {
   "cell_type": "code",
   "execution_count": 15,
   "metadata": {},
   "outputs": [],
   "source": [
    "y = close"
   ]
  },
  {
   "cell_type": "markdown",
   "metadata": {},
   "source": [
    "Quali sono le variabili predittive, le _X_?\n",
    "\n",
    "`high`, `low` e `volume` **non possono essere utilizzate** in quanto il loro valore **non è noto** a inizio giornata\n",
    "\n",
    "Solamente il valore `open[d]` è noto al momento della predizione"
   ]
  },
  {
   "cell_type": "markdown",
   "metadata": {
    "slideshow": {
     "slide_type": "slide"
    }
   },
   "source": [
    "Iniziamo creando un modello di predizione solamente sulla variabile `open`\n",
    "\n",
    "Creiamo un dizionario `features` con le variabili predittive, in questo caso solamente il valore di `open`"
   ]
  },
  {
   "cell_type": "code",
   "execution_count": 16,
   "metadata": {},
   "outputs": [],
   "source": [
    "features = {\"Open\": open}"
   ]
  },
  {
   "cell_type": "markdown",
   "metadata": {},
   "source": [
    "Incapsuliamo le variabili in un `DataFrame`"
   ]
  },
  {
   "cell_type": "code",
   "execution_count": 17,
   "metadata": {},
   "outputs": [],
   "source": [
    "X = pd.DataFrame(features)"
   ]
  },
  {
   "cell_type": "code",
   "execution_count": 18,
   "metadata": {},
   "outputs": [
    {
     "data": {
      "text/html": [
       "<div>\n",
       "<style scoped>\n",
       "    .dataframe tbody tr th:only-of-type {\n",
       "        vertical-align: middle;\n",
       "    }\n",
       "\n",
       "    .dataframe tbody tr th {\n",
       "        vertical-align: top;\n",
       "    }\n",
       "\n",
       "    .dataframe thead th {\n",
       "        text-align: right;\n",
       "    }\n",
       "</style>\n",
       "<table border=\"1\" class=\"dataframe\">\n",
       "  <thead>\n",
       "    <tr style=\"text-align: right;\">\n",
       "      <th></th>\n",
       "      <th>Open</th>\n",
       "    </tr>\n",
       "    <tr>\n",
       "      <th>Date</th>\n",
       "      <th></th>\n",
       "    </tr>\n",
       "  </thead>\n",
       "  <tbody>\n",
       "    <tr>\n",
       "      <th>2001-01-02 00:00:00-05:00</th>\n",
       "      <td>1320.280029</td>\n",
       "    </tr>\n",
       "    <tr>\n",
       "      <th>2001-01-03 00:00:00-05:00</th>\n",
       "      <td>1283.270020</td>\n",
       "    </tr>\n",
       "    <tr>\n",
       "      <th>2001-01-04 00:00:00-05:00</th>\n",
       "      <td>1347.560059</td>\n",
       "    </tr>\n",
       "  </tbody>\n",
       "</table>\n",
       "</div>"
      ],
      "text/plain": [
       "                                  Open\n",
       "Date                                  \n",
       "2001-01-02 00:00:00-05:00  1320.280029\n",
       "2001-01-03 00:00:00-05:00  1283.270020\n",
       "2001-01-04 00:00:00-05:00  1347.560059"
      ]
     },
     "execution_count": 18,
     "metadata": {},
     "output_type": "execute_result"
    }
   ],
   "source": [
    "X.head(3)"
   ]
  },
  {
   "cell_type": "markdown",
   "metadata": {},
   "source": [
    "### Suddivisione dati\n",
    "\n",
    "Effettuiamo una prima suddivisione dei dati in training e validation set\n",
    "\n",
    "Avendo una serie temporale, è comune utilizzare come training i dati fino ad una data specifica e come validation quelli successivi\n",
    "\n",
    "Definiamo una funzione `split_before_2005` che, dati `X` e `y`, restituisca in una tupla con 4 elementi\n",
    "\n",
    "- un training set `X_train` e `y_train` con i dati fino al 2004\n",
    "- un validation set `X_val` e `y_val` con i dati dal 2005 in poi\n",
    "\n",
    "Utilizziamo tale funzione per suddividere i dati `X` e `y` definiti sopra"
   ]
  },
  {
   "cell_type": "code",
   "execution_count": 19,
   "metadata": {},
   "outputs": [],
   "source": [
    "def split_before_2005(X, y):\n",
    "    is_train = X.index.year < 2005\n",
    "    X_train = X.loc[is_train]\n",
    "    y_train = y.loc[is_train]\n",
    "    X_val = X.loc[~is_train]\n",
    "    y_val = y.loc[~is_train]\n",
    "    return X_train, X_val, y_train, y_val"
   ]
  },
  {
   "cell_type": "code",
   "execution_count": 20,
   "metadata": {},
   "outputs": [],
   "source": [
    "X_train, X_val, y_train, y_val = split_before_2005(X, y)"
   ]
  },
  {
   "cell_type": "markdown",
   "metadata": {
    "slideshow": {
     "slide_type": "slide"
    }
   },
   "source": [
    "### Esercizio 2: Addestramento e validazione modelli\n",
    "\n",
    "Usando training e validation set creati sopra, addestrare ciascuno dei seguenti modelli ed ottenerne il coefficiente R²\n",
    "- **(2a)** regressione lineare semplice\n",
    "- **(2b)** regressione polinomiale di grado 10 con regolarizzazione L2 ($\\alpha=1$)\n",
    "- **(2c)** regressione polinomiale di grado 3 con standardizzazione delle feature"
   ]
  },
  {
   "cell_type": "code",
   "execution_count": 21,
   "metadata": {},
   "outputs": [],
   "source": [
    "# import necessari\n",
    "from sklearn.linear_model import LinearRegression, Ridge\n",
    "from sklearn.preprocessing import PolynomialFeatures, StandardScaler\n",
    "from sklearn.pipeline import Pipeline"
   ]
  },
  {
   "cell_type": "code",
   "execution_count": 23,
   "metadata": {},
   "outputs": [
    {
     "data": {
      "text/plain": [
       "0.9886049726011812"
      ]
     },
     "execution_count": 23,
     "metadata": {},
     "output_type": "execute_result"
    }
   ],
   "source": [
    "# 2a\n",
    "model = LinearRegression()\n",
    "model.fit(X_train, y_train)\n",
    "model.score(X_val, y_val)"
   ]
  },
  {
   "cell_type": "code",
   "execution_count": 24,
   "metadata": {},
   "outputs": [
    {
     "name": "stderr",
     "output_type": "stream",
     "text": [
      "/home/pasolini/.venvs/dia/lib/python3.11/site-packages/sklearn/linear_model/_ridge.py:216: LinAlgWarning: Ill-conditioned matrix (rcond=1.40055e-33): result may not be accurate.\n",
      "  return linalg.solve(A, Xy, assume_a=\"pos\", overwrite_a=True).T\n"
     ]
    },
    {
     "data": {
      "text/plain": [
       "0.9824657739540624"
      ]
     },
     "execution_count": 24,
     "metadata": {},
     "output_type": "execute_result"
    }
   ],
   "source": [
    "# 2b\n",
    "model = Pipeline([\n",
    "    (\"poly\", PolynomialFeatures(degree=5, include_bias=False)),\n",
    "    (\"regr\", Ridge(alpha=1))\n",
    "])\n",
    "model.fit(X_train, y_train)\n",
    "model.score(X_val, y_val)"
   ]
  },
  {
   "cell_type": "code",
   "execution_count": 25,
   "metadata": {},
   "outputs": [
    {
     "data": {
      "text/plain": [
       "0.9847818325593015"
      ]
     },
     "execution_count": 25,
     "metadata": {},
     "output_type": "execute_result"
    }
   ],
   "source": [
    "# 2c\n",
    "model = Pipeline([\n",
    "    (\"poly\", PolynomialFeatures(degree=3, include_bias=False)),\n",
    "    (\"scale\", StandardScaler()),\n",
    "    (\"regr\", LinearRegression())\n",
    "])\n",
    "model.fit(X_train, y_train)\n",
    "model.score(X_val, y_val)"
   ]
  },
  {
   "cell_type": "markdown",
   "metadata": {
    "slideshow": {
     "slide_type": "slide"
    }
   },
   "source": [
    "## Simulazione di trading\n",
    "\n",
    "I punteggi R² dei modelli (anche i più semplici) risultano molto alti\n",
    "\n",
    "Questo è dovuto al fatto che i valori di `open` e `close` sono generalmente molto correlati\n",
    "\n",
    "Tuttavia, questo non indica quanto il modello sia in grado di cogliere le piccole variazioni giornaliere tra i due, che sono determinanti nel guidare un investitore\n",
    "\n",
    "Per avere un'idea dell'utilità effettiva del modello, calcoliamo il **guadagno effettivo** che avrebbe un investitore utilizzando il modello"
   ]
  },
  {
   "cell_type": "markdown",
   "metadata": {
    "slideshow": {
     "slide_type": "slide"
    }
   },
   "source": [
    "### Protocollo di trading\n",
    "\n",
    "Assumiamo un investitore che\n",
    "\n",
    "- all'inizio di ogni giornata $d$ confronta il valore di apertura noto $O_d$ col valore di chiusura predetto dal modello $\\hat{C}_d$\n",
    "- se è previsto un rialzo ($\\hat{C}_d > O_d$), compra un titolo e lo rivende a fine giornata, con un guadagno di $C_d-O_d$\n",
    "- se è previsto un ribasso ($\\hat{C}_d < O_d$) vende (allo scoperto) un titolo e lo ricompra a fine giornata, con un guadagno di $O_d-C_d$ (l'opposto del primo caso)\n",
    "\n",
    "Possiamo definire una metrica \"guadagno\" per validare il modello, che restituisca il guadagno totale di un investitore che opera nel periodo a cui si riferisce il validation set"
   ]
  },
  {
   "cell_type": "markdown",
   "metadata": {
    "slideshow": {
     "slide_type": "slide"
    }
   },
   "source": [
    "### Esercizio 3: Implementazione protocollo di trading\n",
    "\n",
    "Completare l'implementazione di `gain` in modo che, date le serie di valori di chiusura reali `C` e predetti `C_pred`, restituisca il guadagno di un investitore secondo le specifiche sopra\n",
    "- la serie di valori di apertura `O` è ricavata dalla serie completa `open` usando `reindex_like` per selezionare esattamente le date di `C`\n",
    "- definire la serie `CO_diff` come la differenza $C_d-O_d$\n",
    "- definire le serie booleane `growth` e `decline` che indicano in quali giorni viene *previsto* un rialzo o un ribasso del valore\n",
    "- restituire la somma dei guadagni ottenuti da acquisto+vendita nei giorni `growth` e vendita+acquisto nei giorni `decline`"
   ]
  },
  {
   "cell_type": "code",
   "execution_count": 28,
   "metadata": {},
   "outputs": [],
   "source": [
    "def gain(C, C_pred):\n",
    "    O = open.reindex_like(C)\n",
    "    CO_diff = C - O\n",
    "    growth = C_pred > O\n",
    "    decline = C_pred < O\n",
    "    return CO_diff[growth].sum() - CO_diff[decline].sum()"
   ]
  },
  {
   "cell_type": "markdown",
   "metadata": {
    "slideshow": {
     "slide_type": "slide"
    }
   },
   "source": [
    "### Calcolo del ROI\n",
    "\n",
    "Il ROI (_Return on Investment_) esprime il guadagno di una o più operazioni in borsa in rapporto all'investimento iniziale\n",
    "\n",
    "La cifra investita in questo caso è pari al valore d'apertura del titolo che varia giornalmente\n",
    "\n",
    "Per stimare il ROI usiamo la media di tale valore nel periodo di investimento\n",
    "\n",
    "Definiamo una nuova funzione `roi`, che riusa il guadagno `gain` definito sopra e lo rapporta all'investimento medio"
   ]
  },
  {
   "cell_type": "code",
   "execution_count": 29,
   "metadata": {},
   "outputs": [],
   "source": [
    "def roi(C, C_pred):\n",
    "    mean_open = open.reindex_like(C).mean()\n",
    "    return gain(C, C_pred) / mean_open"
   ]
  },
  {
   "cell_type": "markdown",
   "metadata": {
    "slideshow": {
     "slide_type": "slide"
    }
   },
   "source": [
    "Definiamo una funzione `print_eval` per stampare le metriche di valutazione del modello\n",
    "\n",
    "Come le altre volte, dato il validation set e un modello da validare, si ottengono le predizioni e le si usano per calcolare le metriche; questa volta però mostriamo guadagno e ROI al posto delle metriche ordinarie"
   ]
  },
  {
   "cell_type": "code",
   "execution_count": 30,
   "metadata": {},
   "outputs": [],
   "source": [
    "def print_eval(X, y, model):\n",
    "    preds = model.predict(X)\n",
    "    print(\"Gain: {:.2f}$\".format(gain(y, preds)))\n",
    "    print(\" ROI: {:.3%}\".format(roi(y, preds)))"
   ]
  },
  {
   "cell_type": "markdown",
   "metadata": {
    "slideshow": {
     "slide_type": "slide"
    }
   },
   "source": [
    "Valutiamo ad esempio guadagno e ROI su un modello di regressione lineare semplice: si ottiene un ROI basso, intorno al 5\\%"
   ]
  },
  {
   "cell_type": "code",
   "execution_count": 31,
   "metadata": {},
   "outputs": [
    {
     "name": "stdout",
     "output_type": "stream",
     "text": [
      "Gain: 61.36$\n",
      " ROI: 4.705%\n"
     ]
    }
   ],
   "source": [
    "model = LinearRegression()\n",
    "model.fit(X_train, y_train)\n",
    "print_eval(X_val, y_val, model)"
   ]
  },
  {
   "cell_type": "markdown",
   "metadata": {
    "slideshow": {
     "slide_type": "slide"
    }
   },
   "source": [
    "## Introduzione di nuove feature\n",
    "\n",
    "Abbiamo addestrato un modello a prevedere il valore giornaliero di chiusura $C_d$ a partire da quello di apertura corrispondente $O_d$\n",
    "\n",
    "Abbiamo però visto con la stima di guadagno e ROI che tale modello non è efficace\n",
    "\n",
    "Per ottenere predizioni più affidabili per ciascuna giornata $d$, possiamo però integrare **informazioni note dai giorni precedenti** a $d$\n",
    "\n",
    "Vediamo come aggiungere tali informazioni in **nuove variabili** su cui basare le predizioni"
   ]
  },
  {
   "cell_type": "markdown",
   "metadata": {
    "slideshow": {
     "slide_type": "slide"
    }
   },
   "source": [
    "Le serie forniscono il metodo `shift`, con cui è possibile ottenerne i **valori slittati in avanti** di un numero di posizioni dato\n",
    "\n",
    "Data ad esempio la serie `open`..."
   ]
  },
  {
   "cell_type": "code",
   "execution_count": 32,
   "metadata": {},
   "outputs": [
    {
     "data": {
      "text/plain": [
       "Date\n",
       "2001-01-02 00:00:00-05:00    1320.280029\n",
       "2001-01-03 00:00:00-05:00    1283.270020\n",
       "2001-01-04 00:00:00-05:00    1347.560059\n",
       "2001-01-05 00:00:00-05:00    1333.339966\n",
       "Name: Open, dtype: float64"
      ]
     },
     "execution_count": 32,
     "metadata": {},
     "output_type": "execute_result"
    }
   ],
   "source": [
    "open   .head(4)"
   ]
  },
  {
   "cell_type": "markdown",
   "metadata": {},
   "source": [
    "...con `shift(2)` otteniamo gli stessi dati slittati in avanti di 2 giorni"
   ]
  },
  {
   "cell_type": "code",
   "execution_count": 33,
   "metadata": {},
   "outputs": [
    {
     "data": {
      "text/plain": [
       "Date\n",
       "2001-01-02 00:00:00-05:00            NaN\n",
       "2001-01-03 00:00:00-05:00            NaN\n",
       "2001-01-04 00:00:00-05:00    1320.280029\n",
       "2001-01-05 00:00:00-05:00    1283.270020\n",
       "Name: Open, dtype: float64"
      ]
     },
     "execution_count": 33,
     "metadata": {},
     "output_type": "execute_result"
    }
   ],
   "source": [
    "open.shift(2)   .head(4)"
   ]
  },
  {
   "cell_type": "markdown",
   "metadata": {},
   "source": [
    "Nei primi 2 giorni sono inseriti valori NaN, non essendo noti i valori dei giorni precedenti"
   ]
  },
  {
   "cell_type": "markdown",
   "metadata": {
    "slideshow": {
     "slide_type": "slide"
    }
   },
   "source": [
    "Possiamo usare `shift` per generare le variabili che si riferiscono ai dati dei giorni precedenti\n",
    "\n",
    "Definiamo ad esempio un nuovo insieme di feature dove, al valore di apertura del giorno corrente $O_d$, aggiungiamo quelli dei due giorni precedenti $O_{d-1}$ e $O_{d-2}$"
   ]
  },
  {
   "cell_type": "code",
   "execution_count": 34,
   "metadata": {},
   "outputs": [],
   "source": [
    "features = {\n",
    "    \"Open\": open,\n",
    "    \"OpenLag1\": open.shift(1),\n",
    "    \"OpenLag2\": open.shift(2),\n",
    "}"
   ]
  },
  {
   "cell_type": "markdown",
   "metadata": {},
   "source": [
    "Come sopra, creiamo un frame con i dati derivanti da tali feature"
   ]
  },
  {
   "cell_type": "code",
   "execution_count": 35,
   "metadata": {},
   "outputs": [],
   "source": [
    "X = pd.DataFrame(features)"
   ]
  },
  {
   "cell_type": "code",
   "execution_count": 36,
   "metadata": {
    "slideshow": {
     "slide_type": "slide"
    }
   },
   "outputs": [
    {
     "data": {
      "text/html": [
       "<div>\n",
       "<style scoped>\n",
       "    .dataframe tbody tr th:only-of-type {\n",
       "        vertical-align: middle;\n",
       "    }\n",
       "\n",
       "    .dataframe tbody tr th {\n",
       "        vertical-align: top;\n",
       "    }\n",
       "\n",
       "    .dataframe thead th {\n",
       "        text-align: right;\n",
       "    }\n",
       "</style>\n",
       "<table border=\"1\" class=\"dataframe\">\n",
       "  <thead>\n",
       "    <tr style=\"text-align: right;\">\n",
       "      <th></th>\n",
       "      <th>Open</th>\n",
       "      <th>OpenLag1</th>\n",
       "      <th>OpenLag2</th>\n",
       "    </tr>\n",
       "    <tr>\n",
       "      <th>Date</th>\n",
       "      <th></th>\n",
       "      <th></th>\n",
       "      <th></th>\n",
       "    </tr>\n",
       "  </thead>\n",
       "  <tbody>\n",
       "    <tr>\n",
       "      <th>2001-01-02 00:00:00-05:00</th>\n",
       "      <td>1320.280029</td>\n",
       "      <td>NaN</td>\n",
       "      <td>NaN</td>\n",
       "    </tr>\n",
       "    <tr>\n",
       "      <th>2001-01-03 00:00:00-05:00</th>\n",
       "      <td>1283.270020</td>\n",
       "      <td>1320.280029</td>\n",
       "      <td>NaN</td>\n",
       "    </tr>\n",
       "    <tr>\n",
       "      <th>2001-01-04 00:00:00-05:00</th>\n",
       "      <td>1347.560059</td>\n",
       "      <td>1283.270020</td>\n",
       "      <td>1320.280029</td>\n",
       "    </tr>\n",
       "    <tr>\n",
       "      <th>2001-01-05 00:00:00-05:00</th>\n",
       "      <td>1333.339966</td>\n",
       "      <td>1347.560059</td>\n",
       "      <td>1283.270020</td>\n",
       "    </tr>\n",
       "    <tr>\n",
       "      <th>2001-01-08 00:00:00-05:00</th>\n",
       "      <td>1298.349976</td>\n",
       "      <td>1333.339966</td>\n",
       "      <td>1347.560059</td>\n",
       "    </tr>\n",
       "  </tbody>\n",
       "</table>\n",
       "</div>"
      ],
      "text/plain": [
       "                                  Open     OpenLag1     OpenLag2\n",
       "Date                                                            \n",
       "2001-01-02 00:00:00-05:00  1320.280029          NaN          NaN\n",
       "2001-01-03 00:00:00-05:00  1283.270020  1320.280029          NaN\n",
       "2001-01-04 00:00:00-05:00  1347.560059  1283.270020  1320.280029\n",
       "2001-01-05 00:00:00-05:00  1333.339966  1347.560059  1283.270020\n",
       "2001-01-08 00:00:00-05:00  1298.349976  1333.339966  1347.560059"
      ]
     },
     "execution_count": 36,
     "metadata": {},
     "output_type": "execute_result"
    }
   ],
   "source": [
    "X.head(5)"
   ]
  },
  {
   "cell_type": "markdown",
   "metadata": {},
   "source": [
    "Otteniamo così un frame con tre variabili invece di una, ma nelle prime righe abbiamo dei valori mancanti\n",
    "\n",
    "Utilizziamo il metodo `dropna` per eliminare tutte le righe con uno o più valori mancanti"
   ]
  },
  {
   "cell_type": "code",
   "execution_count": 37,
   "metadata": {},
   "outputs": [],
   "source": [
    "X = pd.DataFrame(features).dropna()"
   ]
  },
  {
   "cell_type": "code",
   "execution_count": 38,
   "metadata": {
    "slideshow": {
     "slide_type": "slide"
    }
   },
   "outputs": [
    {
     "data": {
      "text/html": [
       "<div>\n",
       "<style scoped>\n",
       "    .dataframe tbody tr th:only-of-type {\n",
       "        vertical-align: middle;\n",
       "    }\n",
       "\n",
       "    .dataframe tbody tr th {\n",
       "        vertical-align: top;\n",
       "    }\n",
       "\n",
       "    .dataframe thead th {\n",
       "        text-align: right;\n",
       "    }\n",
       "</style>\n",
       "<table border=\"1\" class=\"dataframe\">\n",
       "  <thead>\n",
       "    <tr style=\"text-align: right;\">\n",
       "      <th></th>\n",
       "      <th>Open</th>\n",
       "      <th>OpenLag1</th>\n",
       "      <th>OpenLag2</th>\n",
       "    </tr>\n",
       "    <tr>\n",
       "      <th>Date</th>\n",
       "      <th></th>\n",
       "      <th></th>\n",
       "      <th></th>\n",
       "    </tr>\n",
       "  </thead>\n",
       "  <tbody>\n",
       "    <tr>\n",
       "      <th>2001-01-04 00:00:00-05:00</th>\n",
       "      <td>1347.560059</td>\n",
       "      <td>1283.270020</td>\n",
       "      <td>1320.280029</td>\n",
       "    </tr>\n",
       "    <tr>\n",
       "      <th>2001-01-05 00:00:00-05:00</th>\n",
       "      <td>1333.339966</td>\n",
       "      <td>1347.560059</td>\n",
       "      <td>1283.270020</td>\n",
       "    </tr>\n",
       "    <tr>\n",
       "      <th>2001-01-08 00:00:00-05:00</th>\n",
       "      <td>1298.349976</td>\n",
       "      <td>1333.339966</td>\n",
       "      <td>1347.560059</td>\n",
       "    </tr>\n",
       "    <tr>\n",
       "      <th>2001-01-09 00:00:00-05:00</th>\n",
       "      <td>1295.859985</td>\n",
       "      <td>1298.349976</td>\n",
       "      <td>1333.339966</td>\n",
       "    </tr>\n",
       "    <tr>\n",
       "      <th>2001-01-10 00:00:00-05:00</th>\n",
       "      <td>1300.800049</td>\n",
       "      <td>1295.859985</td>\n",
       "      <td>1298.349976</td>\n",
       "    </tr>\n",
       "  </tbody>\n",
       "</table>\n",
       "</div>"
      ],
      "text/plain": [
       "                                  Open     OpenLag1     OpenLag2\n",
       "Date                                                            \n",
       "2001-01-04 00:00:00-05:00  1347.560059  1283.270020  1320.280029\n",
       "2001-01-05 00:00:00-05:00  1333.339966  1347.560059  1283.270020\n",
       "2001-01-08 00:00:00-05:00  1298.349976  1333.339966  1347.560059\n",
       "2001-01-09 00:00:00-05:00  1295.859985  1298.349976  1333.339966\n",
       "2001-01-10 00:00:00-05:00  1300.800049  1295.859985  1298.349976"
      ]
     },
     "execution_count": 38,
     "metadata": {},
     "output_type": "execute_result"
    }
   ],
   "source": [
    "X.head(5)"
   ]
  },
  {
   "cell_type": "markdown",
   "metadata": {},
   "source": [
    "Ora tutte le righe di `X` sono utilizzabili per addestrare e validare il modello\n",
    "\n",
    "Avendo filtrato le righe di `X` dobbiamo filtrare allo stesso modo anche `y`: utilizziamo `reindex_like` per selezionare le stesse etichette (ovvero le date) nella serie `close`"
   ]
  },
  {
   "cell_type": "code",
   "execution_count": 39,
   "metadata": {},
   "outputs": [],
   "source": [
    "y = close.reindex_like(X)"
   ]
  },
  {
   "cell_type": "code",
   "execution_count": 40,
   "metadata": {
    "slideshow": {
     "slide_type": "slide"
    }
   },
   "outputs": [
    {
     "data": {
      "text/plain": [
       "Date\n",
       "2001-01-04 00:00:00-05:00    1333.339966\n",
       "2001-01-05 00:00:00-05:00    1298.349976\n",
       "2001-01-08 00:00:00-05:00    1295.859985\n",
       "2001-01-09 00:00:00-05:00    1300.800049\n",
       "2001-01-10 00:00:00-05:00    1313.270020\n",
       "Name: Close, dtype: float64"
      ]
     },
     "execution_count": 40,
     "metadata": {},
     "output_type": "execute_result"
    }
   ],
   "source": [
    "y.head(5)"
   ]
  },
  {
   "cell_type": "markdown",
   "metadata": {},
   "source": [
    "Riutilizziamo `split_before_2005` su `X` e `y` aggiornati per ottenere i training e validation set aggiornati"
   ]
  },
  {
   "cell_type": "code",
   "execution_count": 41,
   "metadata": {},
   "outputs": [],
   "source": [
    "X_train, X_val, y_train, y_val = split_before_2005(X, y)"
   ]
  },
  {
   "cell_type": "markdown",
   "metadata": {
    "slideshow": {
     "slide_type": "slide"
    }
   },
   "source": [
    "### Esercizio 4: Funzione per la generazione di training e validation set\n",
    "\n",
    "Creare una funzione `prepare_data` che automatizzi i passaggi sopra\n",
    "\n",
    "- accettare in input un dizionario di variabili predittive `features` (simile a quello sopra) e una variabile da predire `target`\n",
    "- creare il frame `X` con le variabili predittive rimuovendo le righe con valori mancanti\n",
    "- creare la serie `y` con i valori della variabile da predire corrispondenti alle righe selezionate di `X`\n",
    "- restituire `X` e `y`"
   ]
  },
  {
   "cell_type": "code",
   "execution_count": 44,
   "metadata": {},
   "outputs": [],
   "source": [
    "def prepare_data(features, target):\n",
    "    X = pd.DataFrame(features).dropna()\n",
    "    y = target.reindex_like(X)\n",
    "    return X, y"
   ]
  },
  {
   "cell_type": "markdown",
   "metadata": {
    "slideshow": {
     "slide_type": "slide"
    }
   },
   "source": [
    "## Modello sulle differenze\n",
    "\n",
    "Con l'aggiunta delle feature, la rendita del modello aumenta ma è ancora scarsa"
   ]
  },
  {
   "cell_type": "code",
   "execution_count": 45,
   "metadata": {},
   "outputs": [
    {
     "name": "stdout",
     "output_type": "stream",
     "text": [
      "Gain: 107.00$\n",
      " ROI: 8.205%\n"
     ]
    }
   ],
   "source": [
    "model = LinearRegression()\n",
    "model.fit(X_train, y_train)\n",
    "print_eval(X_val, y_val, model)"
   ]
  },
  {
   "cell_type": "markdown",
   "metadata": {
    "slideshow": {
     "slide_type": "slide"
    }
   },
   "source": [
    "Finora abbiamo usato nei modelli, sia come variabili predittive che da prevedere, i valori _assoluti_ di apertura e chiusura del mercato\n",
    "\n",
    "Tali valori seguono dei trend di lungo periodo e possono essere molto diversi in periodi differenti: si può notare ad esempio l'effetto della [crisi economica iniziata nel 2007](https://it.wikipedia.org/wiki/Grande_recessione)\n",
    "\n",
    "Nel nostro scenario siamo più interessati alle variazioni giornaliere, indipendentemente dai valori assoluti\n",
    "\n",
    "Revisioniamo i passaggi svolti sopra per utilizzare come variabili le differenze tra questi valori"
   ]
  },
  {
   "cell_type": "markdown",
   "metadata": {
    "slideshow": {
     "slide_type": "slide"
    }
   },
   "source": [
    "Iniziamo definendo come variabile la differenza $\\Delta_d=C_d-O_d$ tra il valore di chiusura giornaliero $C_d$ e quello di apertura $O_d$"
   ]
  },
  {
   "cell_type": "code",
   "execution_count": 46,
   "metadata": {},
   "outputs": [],
   "source": [
    "delta = close - open"
   ]
  },
  {
   "cell_type": "markdown",
   "metadata": {},
   "source": [
    "Poniamo questo come il valore che **deve essere predetto** dal modello\n",
    "\n",
    "L'investitore agirà in base alla predizione $\\hat{\\Delta}_d$ in modo analogo a prima\n",
    "\n",
    "- se $\\hat{\\Delta}_d > 0$, acquista un titolo a inizio giornata e lo rivende alla fine\n",
    "- se $\\hat{\\Delta}_d < 0$, vende un titolo a inizio giornata e lo ricompra alla fine"
   ]
  },
  {
   "cell_type": "markdown",
   "metadata": {
    "slideshow": {
     "slide_type": "slide"
    }
   },
   "source": [
    "### Esercizio 5: Funzioni per guadagno e ROI sulle differenze\n",
    "\n",
    "Reimplementare la funzione `gain` in modo che consideri come input i valori reali e predetti di $\\Delta_d=C_d-O_d$ piuttosto che di $C_d$ (la funzione `roi` rimane invariata, la riportiamo con i nomi delle variabili aggiornate)"
   ]
  },
  {
   "cell_type": "code",
   "execution_count": 49,
   "metadata": {},
   "outputs": [],
   "source": [
    "def gain(D, D_pred):\n",
    "    growth = D_pred > 0\n",
    "    decline = D_pred < 0\n",
    "    return D[growth].sum() - D[decline].sum()\n",
    "\n",
    "def roi(D, D_pred):\n",
    "    mean_open = open.reindex_like(D).mean()\n",
    "    return gain(D, D_pred) / mean_open"
   ]
  },
  {
   "cell_type": "markdown",
   "metadata": {
    "slideshow": {
     "slide_type": "slide"
    }
   },
   "source": [
    "Come variabili predittive, possiamo considerare i valori della variabile da predire $\\Delta_d$ negli $N$ giorni precedenti: $\\Delta_{d-1},\\ldots,\\Delta_{d-N}$\n",
    "\n",
    "Consideriamo ad esempio i valori nei 3 giorni precedenti: usiamo una comprehension per costruire un dizionario con le variabili `DeltaLag{i}` con `i` variabile"
   ]
  },
  {
   "cell_type": "code",
   "execution_count": 50,
   "metadata": {},
   "outputs": [],
   "source": [
    "features = {\n",
    "    \"DeltaLag{}\".format(i): delta.shift(i)\n",
    "    for i in range(1, 4)\n",
    "}"
   ]
  },
  {
   "cell_type": "markdown",
   "metadata": {},
   "source": [
    "Usiamo le funzioni già create sopra per ottenere training e validation set con queste nuove variabili"
   ]
  },
  {
   "cell_type": "code",
   "execution_count": 51,
   "metadata": {},
   "outputs": [],
   "source": [
    "X, y = prepare_data(features, delta)\n",
    "X_train, X_val, y_train, y_val = split_before_2005(X, y)"
   ]
  },
  {
   "cell_type": "markdown",
   "metadata": {
    "slideshow": {
     "slide_type": "slide"
    }
   },
   "source": [
    "Addestriamo e validiamo un modello di regressione lineare"
   ]
  },
  {
   "cell_type": "code",
   "execution_count": 52,
   "metadata": {},
   "outputs": [
    {
     "name": "stdout",
     "output_type": "stream",
     "text": [
      "Gain: 1308.40$\n",
      " ROI: 100.329%\n"
     ]
    }
   ],
   "source": [
    "model = LinearRegression()\n",
    "model.fit(X_train, y_train)\n",
    "print_eval(X_val, y_val, model)"
   ]
  },
  {
   "cell_type": "markdown",
   "metadata": {},
   "source": [
    "Con questi accorgimenti, otteniamo un modello che garantisce un guadagno molto maggiore"
   ]
  },
  {
   "cell_type": "markdown",
   "metadata": {
    "slideshow": {
     "slide_type": "slide"
    }
   },
   "source": [
    "## Confronto con un modello casuale\n",
    "\n",
    "Per avere una valutazione più completa del modello ottenuto, possiamo metterlo a confronto con quello che accadrebbe prendendo decisioni casuali\n",
    "\n",
    "Consideriamo un modello che predica dei valori $\\hat{\\Delta}_d$ casuali, ma con la stessa distribuzione dei valori $\\Delta_d$ reali\n",
    "\n",
    "Disegnando un istogramma, vediamo che $\\Delta_d$ ha una distribuzione normale"
   ]
  },
  {
   "cell_type": "code",
   "execution_count": 53,
   "metadata": {},
   "outputs": [
    {
     "data": {
      "image/png": "[encoded data removed]",
      "text/plain": [
       "<Figure size 1200x400 with 1 Axes>"
      ]
     },
     "metadata": {},
     "output_type": "display_data"
    }
   ],
   "source": [
    "y_train.plot.hist(bins=40, figsize=(12, 4));"
   ]
  },
  {
   "cell_type": "markdown",
   "metadata": {
    "slideshow": {
     "slide_type": "slide"
    }
   },
   "source": [
    "Consideriamo una distribuzione normale con media e deviazione standard pari a quelle di `y_train` e generiamo tanti campioni quanti i valori in `y_val`"
   ]
  },
  {
   "cell_type": "code",
   "execution_count": 54,
   "metadata": {},
   "outputs": [],
   "source": [
    "np.random.seed(42)\n",
    "random_preds = np.random.normal(\n",
    "    y_train.mean(),   # centro (media), circa 0\n",
    "    y_train.std(),    # scala (dev. standard)\n",
    "    len(y_val)        # numero di campioni\n",
    ")"
   ]
  },
  {
   "cell_type": "code",
   "execution_count": 55,
   "metadata": {},
   "outputs": [
    {
     "data": {
      "image/png": "[encoded data removed]",
      "text/plain": [
       "<Figure size 1200x300 with 1 Axes>"
      ]
     },
     "metadata": {},
     "output_type": "display_data"
    }
   ],
   "source": [
    "plt.figure(figsize=(12, 3))\n",
    "plt.hist(random_preds, bins=40);"
   ]
  },
  {
   "cell_type": "markdown",
   "metadata": {
    "slideshow": {
     "slide_type": "slide"
    }
   },
   "source": [
    "Valutiamo guadagno e ROI utilizzando i campioni generati al posto delle predizioni del modello"
   ]
  },
  {
   "cell_type": "code",
   "execution_count": 56,
   "metadata": {},
   "outputs": [
    {
     "data": {
      "text/plain": [
       "-271.2789306640625"
      ]
     },
     "execution_count": 56,
     "metadata": {},
     "output_type": "execute_result"
    }
   ],
   "source": [
    "gain(y_val, random_preds)"
   ]
  },
  {
   "cell_type": "code",
   "execution_count": 57,
   "metadata": {},
   "outputs": [
    {
     "data": {
      "text/plain": [
       "-0.20801836780762534"
      ]
     },
     "execution_count": 57,
     "metadata": {},
     "output_type": "execute_result"
    }
   ],
   "source": [
    "roi(y_val, random_preds)"
   ]
  },
  {
   "cell_type": "markdown",
   "metadata": {},
   "source": [
    "In questo caso otteniamo un valore negativo, ovvero una perdita"
   ]
  },
  {
   "cell_type": "markdown",
   "metadata": {
    "slideshow": {
     "slide_type": "slide"
    }
   },
   "source": [
    "### Esercizio 6: Test multipli su modello casuale\n",
    "\n",
    "Per valutare con maggiore affidabilità l'efficacia di un modello casuale, dobbiamo eseguire test multipli con seed differenti\n",
    "\n",
    "Calcolare il ROI medio su 1.000 test con predizioni casuali come quello sopra, utilizzando un seed diverso in ciascuna\n",
    "\n",
    "Si dovrebbe ottenere un ROI medio prossimo allo 0"
   ]
  },
  {
   "cell_type": "code",
   "execution_count": 59,
   "metadata": {},
   "outputs": [
    {
     "name": "stdout",
     "output_type": "stream",
     "text": [
      "0.01929211255212092\n"
     ]
    }
   ],
   "source": [
    "rois = []\n",
    "for s in range(1000):\n",
    "    np.random.seed(s)\n",
    "    preds = np.random.normal(y_train.mean(), y_train.std(), len(y_val))\n",
    "    rois.append(roi(y_val, preds))\n",
    "print(np.mean(rois))"
   ]
  },
  {
   "cell_type": "markdown",
   "metadata": {
    "slideshow": {
     "slide_type": "slide"
    }
   },
   "source": [
    "## Validazione k-fold per serie temporali\n",
    "\n",
    "Nella cross validation a _k_ fold ordinaria, i dati vengono divisi in _k_ fold mescolati casualmente\n",
    "\n",
    "Nel caso come questo di una serie temporale, vogliamo però mantenere l'ordine temporale in training e validation set\n",
    "\n",
    "Come alternativa allo split `KFold`, scikit-learn offre il `TimeSeriesSplit(k)` per questa situazione\n",
    "\n",
    "- il dataset è diviso in _k_+1 fold contigui di pari dimensioni\n",
    "- ogni split _i_ da 1 a _k_ contiene i primi _i_ fold come training set e il _i+1_-esimo come validation set"
   ]
  },
  {
   "cell_type": "markdown",
   "metadata": {
    "slideshow": {
     "slide_type": "slide"
    }
   },
   "source": [
    "Definiamo un `TimeSeriesSplit` con 3 split"
   ]
  },
  {
   "cell_type": "code",
   "execution_count": 60,
   "metadata": {},
   "outputs": [],
   "source": [
    "from sklearn.model_selection import TimeSeriesSplit\n",
    "tss = TimeSeriesSplit(3)"
   ]
  },
  {
   "cell_type": "markdown",
   "metadata": {},
   "source": [
    "Vediamo ad esempio come suddivide i dati in `X`: gli 8 anni dei dati sono divisi in 4 gruppi da 2"
   ]
  },
  {
   "cell_type": "code",
   "execution_count": 61,
   "metadata": {},
   "outputs": [
    {
     "name": "stdout",
     "output_type": "stream",
     "text": [
      "FOLD 1\n",
      "Training set da 2001-01-05 00:00:00-05:00 a 2003-01-10 00:00:00-05:00\n",
      "Validation set da 2003-01-13 00:00:00-05:00 a 2005-01-06 00:00:00-05:00\n",
      "FOLD 2\n",
      "Training set da 2001-01-05 00:00:00-05:00 a 2005-01-06 00:00:00-05:00\n",
      "Validation set da 2005-01-07 00:00:00-05:00 a 2007-01-04 00:00:00-05:00\n",
      "FOLD 3\n",
      "Training set da 2001-01-05 00:00:00-05:00 a 2007-01-04 00:00:00-05:00\n",
      "Validation set da 2007-01-05 00:00:00-05:00 a 2008-12-30 00:00:00-05:00\n"
     ]
    }
   ],
   "source": [
    "for i, (train, val) in enumerate(tss.split(X), start=1):\n",
    "    print(f\"FOLD {i}\")\n",
    "    train_dates = X.index[train]\n",
    "    val_dates = X.index[val]\n",
    "    print(f\"Training set da {train_dates.min()} a {train_dates.max()}\")\n",
    "    print(f\"Validation set da {val_dates.min()} a {val_dates.max()}\")"
   ]
  },
  {
   "cell_type": "markdown",
   "metadata": {},
   "source": [
    "```\n",
    "         2001   2002   2003   2004   2005   2006   2007   2008\n",
    "       +------+------+------+------+------+------+------+------+\n",
    "Fold 1 |   Training  |  Validation |######## non usato ########|\n",
    "       +------+------+------+------+------+------+------+------+\n",
    "Fold 2 |          Training         |  Validation |# non usato #|\n",
    "       +------+------+------+------+------+------+------+------+\n",
    "Fold 3 |                 Training                |  Validation |\n",
    "       +------+------+------+------+------+------+------+------+\n",
    "```"
   ]
  },
  {
   "cell_type": "markdown",
   "metadata": {
    "slideshow": {
     "slide_type": "slide"
    }
   },
   "source": [
    "Per eseguire la cross validation, dobbiamo stabilire anche la metrica di valutazione da utilizzare\n",
    "\n",
    "Prendiamo come riferimento il ROI, per cui abbiamo implementato la funzione `roi`\n",
    "\n",
    "Per utilizzarla come metrica al posto di quelle predefinite dobbiamo incapsularla in un oggetto _scorer_ con la funzione `make_scorer`\n",
    "\n",
    "L'opzione `greater_is_better=True` specifica che valori più alti indicano modelli migliori, al contrario delle misure d'errore"
   ]
  },
  {
   "cell_type": "code",
   "execution_count": 62,
   "metadata": {},
   "outputs": [],
   "source": [
    "from sklearn.metrics import make_scorer\n",
    "roi_scorer = make_scorer(roi, greater_is_better=True)"
   ]
  },
  {
   "cell_type": "markdown",
   "metadata": {},
   "source": [
    "Possiamo ora utilizzare la funzione `cross_validate`, specificando\n",
    "\n",
    "- il modello da validare\n",
    "- i dati\n",
    "- il criterio di suddivisione in fold (oggetto `TimeSeriesSplit`)\n",
    "- la metrica di valutazione (il ROI)\n",
    "\n",
    "Usiamo come esempio la regressione lineare semplice"
   ]
  },
  {
   "cell_type": "code",
   "execution_count": 63,
   "metadata": {},
   "outputs": [],
   "source": [
    "from sklearn.model_selection import cross_validate\n",
    "cv_results = cross_validate(\n",
    "    LinearRegression(),\n",
    "    X, y,\n",
    "    cv=tss,\n",
    "    scoring=roi_scorer,\n",
    ")"
   ]
  },
  {
   "cell_type": "markdown",
   "metadata": {
    "slideshow": {
     "slide_type": "slide"
    }
   },
   "source": [
    "Estraiamo i punteggi ottenuti nei tre fold e calcoliamo la media"
   ]
  },
  {
   "cell_type": "code",
   "execution_count": 64,
   "metadata": {},
   "outputs": [
    {
     "data": {
      "text/plain": [
       "array([-0.14443616,  0.10888946,  0.74112849])"
      ]
     },
     "execution_count": 64,
     "metadata": {},
     "output_type": "execute_result"
    }
   ],
   "source": [
    "cv_results[\"test_score\"]"
   ]
  },
  {
   "cell_type": "code",
   "execution_count": 65,
   "metadata": {},
   "outputs": [
    {
     "data": {
      "text/plain": [
       "0.23519392952726648"
      ]
     },
     "execution_count": 65,
     "metadata": {},
     "output_type": "execute_result"
    }
   ],
   "source": [
    "cv_results[\"test_score\"].mean()"
   ]
  },
  {
   "cell_type": "markdown",
   "metadata": {},
   "source": [
    "Vediamo che il ROI medio è 23,5\\%, ma molto variabile da un periodo d'applicazione all'altro, probabilmente anche per via dei training set di diversa durata (2, 4, 6 anni)\n",
    "\n",
    "Notare che questi ROI sono calcolati su periodi di soli due anni, contro i quattro del validation set fisso usato prima"
   ]
  },
  {
   "cell_type": "markdown",
   "metadata": {
    "slideshow": {
     "slide_type": "slide"
    }
   },
   "source": [
    "## Grid search\n",
    "\n",
    "Possiamo riutilizzare gli stessi componenti della cross validation \"semplice\" in una grid search per tarare gli iperparametri dei modelli più avanzati\n",
    "\n",
    "Prendiamo ad esempio come modello base la regressione polinomiale con o senza standardizzazione delle feature generate"
   ]
  },
  {
   "cell_type": "code",
   "execution_count": 66,
   "metadata": {},
   "outputs": [],
   "source": [
    "model = Pipeline([\n",
    "    (\"poly\", PolynomialFeatures(include_bias=False)),\n",
    "    (\"scale\", None),\n",
    "    (\"regr\", LinearRegression())\n",
    "])"
   ]
  },
  {
   "cell_type": "markdown",
   "metadata": {},
   "source": [
    "Definiamo la griglia degli iperparametri variabili: applicazione o non della standardizzazione e grado del polinomio (includiamo per confronto anche il grado 1, ovvero la regressione lineare standard)"
   ]
  },
  {
   "cell_type": "code",
   "execution_count": 67,
   "metadata": {},
   "outputs": [],
   "source": [
    "grid = {\n",
    "    \"scale\": [None, StandardScaler()],\n",
    "    \"poly__degree\": list(range(1, 7))\n",
    "}"
   ]
  },
  {
   "cell_type": "markdown",
   "metadata": {
    "slideshow": {
     "slide_type": "slide"
    }
   },
   "source": [
    "Creiamo il modello grid search specificando tutti i parametri\n",
    "\n",
    "- modello base con iperparametri fissi\n",
    "- griglia dei iperparametri variabili\n",
    "- criterio di cross validation\n",
    "- metrica di valutazione"
   ]
  },
  {
   "cell_type": "code",
   "execution_count": 68,
   "metadata": {},
   "outputs": [],
   "source": [
    "from sklearn.model_selection import GridSearchCV\n",
    "gs = GridSearchCV(model, grid, cv=tss, scoring=roi_scorer)"
   ]
  },
  {
   "cell_type": "markdown",
   "metadata": {},
   "source": [
    "Addestriamolo quindi su tutti i dati"
   ]
  },
  {
   "cell_type": "code",
   "execution_count": 69,
   "metadata": {},
   "outputs": [],
   "source": [
    "gs.fit(X, y);"
   ]
  },
  {
   "cell_type": "markdown",
   "metadata": {
    "slideshow": {
     "slide_type": "-"
    }
   },
   "source": [
    "Reperiamo e analizziamo i risultati ottenuti"
   ]
  },
  {
   "cell_type": "code",
   "execution_count": 70,
   "metadata": {},
   "outputs": [],
   "source": [
    "gs_results = pd.DataFrame(gs.cv_results_)"
   ]
  },
  {
   "cell_type": "code",
   "execution_count": 71,
   "metadata": {
    "slideshow": {
     "slide_type": "slide"
    }
   },
   "outputs": [
    {
     "data": {
      "text/html": [
       "<div>\n",
       "<style scoped>\n",
       "    .dataframe tbody tr th:only-of-type {\n",
       "        vertical-align: middle;\n",
       "    }\n",
       "\n",
       "    .dataframe tbody tr th {\n",
       "        vertical-align: top;\n",
       "    }\n",
       "\n",
       "    .dataframe thead th {\n",
       "        text-align: right;\n",
       "    }\n",
       "</style>\n",
       "<table border=\"1\" class=\"dataframe\">\n",
       "  <thead>\n",
       "    <tr style=\"text-align: right;\">\n",
       "      <th></th>\n",
       "      <th>mean_fit_time</th>\n",
       "      <th>std_fit_time</th>\n",
       "      <th>mean_score_time</th>\n",
       "      <th>std_score_time</th>\n",
       "      <th>param_poly__degree</th>\n",
       "      <th>param_scale</th>\n",
       "      <th>params</th>\n",
       "      <th>split0_test_score</th>\n",
       "      <th>split1_test_score</th>\n",
       "      <th>split2_test_score</th>\n",
       "      <th>mean_test_score</th>\n",
       "      <th>std_test_score</th>\n",
       "      <th>rank_test_score</th>\n",
       "    </tr>\n",
       "  </thead>\n",
       "  <tbody>\n",
       "    <tr>\n",
       "      <th>8</th>\n",
       "      <td>0.093523</td>\n",
       "      <td>0.047230</td>\n",
       "      <td>0.018177</td>\n",
       "      <td>0.016423</td>\n",
       "      <td>5</td>\n",
       "      <td>None</td>\n",
       "      <td>{'poly__degree': 5, 'scale': None}</td>\n",
       "      <td>-0.042530</td>\n",
       "      <td>0.189004</td>\n",
       "      <td>0.770411</td>\n",
       "      <td>0.305628</td>\n",
       "      <td>0.341974</td>\n",
       "      <td>1</td>\n",
       "    </tr>\n",
       "    <tr>\n",
       "      <th>9</th>\n",
       "      <td>0.057794</td>\n",
       "      <td>0.029923</td>\n",
       "      <td>0.018988</td>\n",
       "      <td>0.020794</td>\n",
       "      <td>5</td>\n",
       "      <td>StandardScaler()</td>\n",
       "      <td>{'poly__degree': 5, 'scale': StandardScaler()}</td>\n",
       "      <td>-0.042530</td>\n",
       "      <td>0.189004</td>\n",
       "      <td>0.770411</td>\n",
       "      <td>0.305628</td>\n",
       "      <td>0.341974</td>\n",
       "      <td>1</td>\n",
       "    </tr>\n",
       "    <tr>\n",
       "      <th>0</th>\n",
       "      <td>0.003791</td>\n",
       "      <td>0.001030</td>\n",
       "      <td>0.001741</td>\n",
       "      <td>0.000116</td>\n",
       "      <td>1</td>\n",
       "      <td>None</td>\n",
       "      <td>{'poly__degree': 1, 'scale': None}</td>\n",
       "      <td>-0.144436</td>\n",
       "      <td>0.108889</td>\n",
       "      <td>0.741128</td>\n",
       "      <td>0.235194</td>\n",
       "      <td>0.372398</td>\n",
       "      <td>3</td>\n",
       "    </tr>\n",
       "    <tr>\n",
       "      <th>1</th>\n",
       "      <td>0.003557</td>\n",
       "      <td>0.000060</td>\n",
       "      <td>0.001765</td>\n",
       "      <td>0.000015</td>\n",
       "      <td>1</td>\n",
       "      <td>StandardScaler()</td>\n",
       "      <td>{'poly__degree': 1, 'scale': StandardScaler()}</td>\n",
       "      <td>-0.144436</td>\n",
       "      <td>0.108889</td>\n",
       "      <td>0.741128</td>\n",
       "      <td>0.235194</td>\n",
       "      <td>0.372398</td>\n",
       "      <td>3</td>\n",
       "    </tr>\n",
       "    <tr>\n",
       "      <th>6</th>\n",
       "      <td>0.047205</td>\n",
       "      <td>0.007346</td>\n",
       "      <td>0.005768</td>\n",
       "      <td>0.001499</td>\n",
       "      <td>4</td>\n",
       "      <td>None</td>\n",
       "      <td>{'poly__degree': 4, 'scale': None}</td>\n",
       "      <td>-0.028171</td>\n",
       "      <td>0.097567</td>\n",
       "      <td>0.272940</td>\n",
       "      <td>0.114112</td>\n",
       "      <td>0.123484</td>\n",
       "      <td>5</td>\n",
       "    </tr>\n",
       "  </tbody>\n",
       "</table>\n",
       "</div>"
      ],
      "text/plain": [
       "   mean_fit_time  std_fit_time  mean_score_time  std_score_time  \\\n",
       "8       0.093523      0.047230         0.018177        0.016423   \n",
       "9       0.057794      0.029923         0.018988        0.020794   \n",
       "0       0.003791      0.001030         0.001741        0.000116   \n",
       "1       0.003557      0.000060         0.001765        0.000015   \n",
       "6       0.047205      0.007346         0.005768        0.001499   \n",
       "\n",
       "  param_poly__degree       param_scale  \\\n",
       "8                  5              None   \n",
       "9                  5  StandardScaler()   \n",
       "0                  1              None   \n",
       "1                  1  StandardScaler()   \n",
       "6                  4              None   \n",
       "\n",
       "                                           params  split0_test_score  \\\n",
       "8              {'poly__degree': 5, 'scale': None}          -0.042530   \n",
       "9  {'poly__degree': 5, 'scale': StandardScaler()}          -0.042530   \n",
       "0              {'poly__degree': 1, 'scale': None}          -0.144436   \n",
       "1  {'poly__degree': 1, 'scale': StandardScaler()}          -0.144436   \n",
       "6              {'poly__degree': 4, 'scale': None}          -0.028171   \n",
       "\n",
       "   split1_test_score  split2_test_score  mean_test_score  std_test_score  \\\n",
       "8           0.189004           0.770411         0.305628        0.341974   \n",
       "9           0.189004           0.770411         0.305628        0.341974   \n",
       "0           0.108889           0.741128         0.235194        0.372398   \n",
       "1           0.108889           0.741128         0.235194        0.372398   \n",
       "6           0.097567           0.272940         0.114112        0.123484   \n",
       "\n",
       "   rank_test_score  \n",
       "8                1  \n",
       "9                1  \n",
       "0                3  \n",
       "1                3  \n",
       "6                5  "
      ]
     },
     "execution_count": 71,
     "metadata": {},
     "output_type": "execute_result"
    }
   ],
   "source": [
    "# stampo le 5 configurazioni migliori\n",
    "gs_results.sort_values(\"mean_test_score\", ascending=False).head(5)"
   ]
  },
  {
   "cell_type": "markdown",
   "metadata": {},
   "source": [
    "Le migliori configurazioni in questo caso sono quelle con le feature di 5° grado (la standardizzazione non fa differenza)"
   ]
  },
  {
   "cell_type": "markdown",
   "metadata": {
    "slideshow": {
     "slide_type": "slide"
    }
   },
   "source": [
    "### Esercizio 7: Grid search su kernel ridge\n",
    "\n",
    "- Effettuare la grid search su un modello kernel ridge\n",
    "  - con kernel `rbf` con `gamma` pari a $10^{-3},10^{-2},10^{-1}$\n",
    "  - con peso di regolarizzazione `alpha` pari a $10^{-3},10^{-2},\\ldots,10^2$\n",
    "    - si può usare `np.logspace`\n",
    "  - con o senza standardizzazione delle feature in ingresso\n",
    "- Stampare come sopra un frame con le 5 configurazioni migliori"
   ]
  },
  {
   "cell_type": "code",
   "execution_count": 72,
   "metadata": {},
   "outputs": [],
   "source": [
    "from sklearn.kernel_ridge import KernelRidge"
   ]
  },
  {
   "cell_type": "code",
   "execution_count": 74,
   "metadata": {},
   "outputs": [],
   "source": [
    "model = Pipeline([\n",
    "    (\"scale\", None),\n",
    "    (\"regr\", KernelRidge(kernel=\"rbf\"))\n",
    "])\n",
    "grid = {\n",
    "    \"scale\": [None, StandardScaler()],\n",
    "    \"regr__gamma\": [0.001, 0.01, 0.1],\n",
    "    \"regr__alpha\": np.logspace(-3, 2, 6)\n",
    "}\n",
    "gs = GridSearchCV(model, grid, scoring=roi_scorer, cv=tss)\n",
    "gs.fit(X, y)\n",
    "cv_results = pd.DataFrame(gs.cv_results_)"
   ]
  },
  {
   "cell_type": "code",
   "execution_count": 75,
   "metadata": {},
   "outputs": [
    {
     "data": {
      "text/html": [
       "<div>\n",
       "<style scoped>\n",
       "    .dataframe tbody tr th:only-of-type {\n",
       "        vertical-align: middle;\n",
       "    }\n",
       "\n",
       "    .dataframe tbody tr th {\n",
       "        vertical-align: top;\n",
       "    }\n",
       "\n",
       "    .dataframe thead th {\n",
       "        text-align: right;\n",
       "    }\n",
       "</style>\n",
       "<table border=\"1\" class=\"dataframe\">\n",
       "  <thead>\n",
       "    <tr style=\"text-align: right;\">\n",
       "      <th></th>\n",
       "      <th>mean_fit_time</th>\n",
       "      <th>std_fit_time</th>\n",
       "      <th>mean_score_time</th>\n",
       "      <th>std_score_time</th>\n",
       "      <th>param_regr__alpha</th>\n",
       "      <th>param_regr__gamma</th>\n",
       "      <th>param_scale</th>\n",
       "      <th>params</th>\n",
       "      <th>split0_test_score</th>\n",
       "      <th>split1_test_score</th>\n",
       "      <th>split2_test_score</th>\n",
       "      <th>mean_test_score</th>\n",
       "      <th>std_test_score</th>\n",
       "      <th>rank_test_score</th>\n",
       "    </tr>\n",
       "  </thead>\n",
       "  <tbody>\n",
       "    <tr>\n",
       "      <th>17</th>\n",
       "      <td>0.123173</td>\n",
       "      <td>0.005096</td>\n",
       "      <td>0.044388</td>\n",
       "      <td>0.022883</td>\n",
       "      <td>0.1</td>\n",
       "      <td>0.1</td>\n",
       "      <td>StandardScaler()</td>\n",
       "      <td>{'regr__alpha': 0.1, 'regr__gamma': 0.1, 'scal...</td>\n",
       "      <td>-0.179396</td>\n",
       "      <td>0.148859</td>\n",
       "      <td>0.987389</td>\n",
       "      <td>0.318950</td>\n",
       "      <td>0.491287</td>\n",
       "      <td>1</td>\n",
       "    </tr>\n",
       "    <tr>\n",
       "      <th>8</th>\n",
       "      <td>0.156460</td>\n",
       "      <td>0.039305</td>\n",
       "      <td>0.031291</td>\n",
       "      <td>0.005388</td>\n",
       "      <td>0.01</td>\n",
       "      <td>0.01</td>\n",
       "      <td>None</td>\n",
       "      <td>{'regr__alpha': 0.01, 'regr__gamma': 0.01, 'sc...</td>\n",
       "      <td>0.095404</td>\n",
       "      <td>-0.035444</td>\n",
       "      <td>0.846344</td>\n",
       "      <td>0.302101</td>\n",
       "      <td>0.388527</td>\n",
       "      <td>2</td>\n",
       "    </tr>\n",
       "    <tr>\n",
       "      <th>2</th>\n",
       "      <td>0.195797</td>\n",
       "      <td>0.093754</td>\n",
       "      <td>0.031697</td>\n",
       "      <td>0.005676</td>\n",
       "      <td>0.001</td>\n",
       "      <td>0.01</td>\n",
       "      <td>None</td>\n",
       "      <td>{'regr__alpha': 0.001, 'regr__gamma': 0.01, 's...</td>\n",
       "      <td>-0.135527</td>\n",
       "      <td>0.018342</td>\n",
       "      <td>0.949231</td>\n",
       "      <td>0.277349</td>\n",
       "      <td>0.479228</td>\n",
       "      <td>3</td>\n",
       "    </tr>\n",
       "    <tr>\n",
       "      <th>14</th>\n",
       "      <td>0.148947</td>\n",
       "      <td>0.006684</td>\n",
       "      <td>0.035213</td>\n",
       "      <td>0.008549</td>\n",
       "      <td>0.1</td>\n",
       "      <td>0.01</td>\n",
       "      <td>None</td>\n",
       "      <td>{'regr__alpha': 0.1, 'regr__gamma': 0.01, 'sca...</td>\n",
       "      <td>0.087712</td>\n",
       "      <td>0.090150</td>\n",
       "      <td>0.605152</td>\n",
       "      <td>0.261005</td>\n",
       "      <td>0.243351</td>\n",
       "      <td>4</td>\n",
       "    </tr>\n",
       "    <tr>\n",
       "      <th>18</th>\n",
       "      <td>0.126390</td>\n",
       "      <td>0.012894</td>\n",
       "      <td>0.034588</td>\n",
       "      <td>0.003681</td>\n",
       "      <td>1.0</td>\n",
       "      <td>0.001</td>\n",
       "      <td>None</td>\n",
       "      <td>{'regr__alpha': 1.0, 'regr__gamma': 0.001, 'sc...</td>\n",
       "      <td>-0.161897</td>\n",
       "      <td>0.134916</td>\n",
       "      <td>0.717848</td>\n",
       "      <td>0.230289</td>\n",
       "      <td>0.365431</td>\n",
       "      <td>5</td>\n",
       "    </tr>\n",
       "  </tbody>\n",
       "</table>\n",
       "</div>"
      ],
      "text/plain": [
       "    mean_fit_time  std_fit_time  mean_score_time  std_score_time  \\\n",
       "17       0.123173      0.005096         0.044388        0.022883   \n",
       "8        0.156460      0.039305         0.031291        0.005388   \n",
       "2        0.195797      0.093754         0.031697        0.005676   \n",
       "14       0.148947      0.006684         0.035213        0.008549   \n",
       "18       0.126390      0.012894         0.034588        0.003681   \n",
       "\n",
       "   param_regr__alpha param_regr__gamma       param_scale  \\\n",
       "17               0.1               0.1  StandardScaler()   \n",
       "8               0.01              0.01              None   \n",
       "2              0.001              0.01              None   \n",
       "14               0.1              0.01              None   \n",
       "18               1.0             0.001              None   \n",
       "\n",
       "                                               params  split0_test_score  \\\n",
       "17  {'regr__alpha': 0.1, 'regr__gamma': 0.1, 'scal...          -0.179396   \n",
       "8   {'regr__alpha': 0.01, 'regr__gamma': 0.01, 'sc...           0.095404   \n",
       "2   {'regr__alpha': 0.001, 'regr__gamma': 0.01, 's...          -0.135527   \n",
       "14  {'regr__alpha': 0.1, 'regr__gamma': 0.01, 'sca...           0.087712   \n",
       "18  {'regr__alpha': 1.0, 'regr__gamma': 0.001, 'sc...          -0.161897   \n",
       "\n",
       "    split1_test_score  split2_test_score  mean_test_score  std_test_score  \\\n",
       "17           0.148859           0.987389         0.318950        0.491287   \n",
       "8           -0.035444           0.846344         0.302101        0.388527   \n",
       "2            0.018342           0.949231         0.277349        0.479228   \n",
       "14           0.090150           0.605152         0.261005        0.243351   \n",
       "18           0.134916           0.717848         0.230289        0.365431   \n",
       "\n",
       "    rank_test_score  \n",
       "17                1  \n",
       "8                 2  \n",
       "2                 3  \n",
       "14                4  \n",
       "18                5  "
      ]
     },
     "execution_count": 75,
     "metadata": {},
     "output_type": "execute_result"
    }
   ],
   "source": [
    "cv_results.sort_values(\"mean_test_score\", ascending=False).head(5)"
   ]
  },
  {
   "cell_type": "markdown",
   "metadata": {
    "slideshow": {
     "slide_type": "slide"
    }
   },
   "source": [
    "## Aggiunta di variabili predittive\n",
    "\n",
    "I modelli addestrati sopra sono basati solamente su tre variabili, ovvero i valori di $\\Delta_d$ nei tre giorni precedenti a $d$\n",
    "\n",
    "Non stiamo utilizzando altre informazioni, quali le variazioni dei valori da un giorno all'altro e i massimi/minimi giornalieri\n",
    "\n",
    "Creiamo un nuovo insieme di variabili che tenga conto di queste altre informazioni"
   ]
  },
  {
   "cell_type": "code",
   "execution_count": 76,
   "metadata": {},
   "outputs": [],
   "source": [
    "features = {}"
   ]
  },
  {
   "cell_type": "markdown",
   "metadata": {},
   "source": [
    "Inseriamo inizialmente le feature relative ai valori di $\\Delta_d$ nei giorni precedenti, come prima"
   ]
  },
  {
   "cell_type": "code",
   "execution_count": 77,
   "metadata": {},
   "outputs": [],
   "source": [
    "for n in range(1, 4):   # n da 1 a 3\n",
    "    features[\"DeltaLag{}\".format(n)] = delta.shift(n)"
   ]
  },
  {
   "cell_type": "markdown",
   "metadata": {
    "slideshow": {
     "slide_type": "slide"
    }
   },
   "source": [
    "Per cogliere le variazioni da un giorno all'altro, possiamo considerare le differenze tra valori di una stessa variabile tra giorni consecutivi\n",
    "\n",
    "Consideriamo ad esempio il valore di apertura $O_d$: possiamo usare come variabile la differenza $O_d-O_{d-1}$ di questo valore da quello del giorno precedente\n",
    "\n",
    "Anche questa variabile, come $\\Delta_d$, è una differenza tra valori piuttosto che un valore assoluto: non viene influenzata dall'andamento di lungo periodo del mercato\n",
    "\n",
    "Possiamo ottenere questa variabile dalla differenza tra la serie `open` e lo `shift` di se stessa"
   ]
  },
  {
   "cell_type": "code",
   "execution_count": 78,
   "metadata": {},
   "outputs": [],
   "source": [
    "open_diff = open - open.shift(1)"
   ]
  },
  {
   "cell_type": "markdown",
   "metadata": {
    "slideshow": {
     "slide_type": "slide"
    }
   },
   "source": [
    "Visualizziamo alcuni valori di tale variabile, affiancati a quelle da cui è ricavata"
   ]
  },
  {
   "cell_type": "code",
   "execution_count": 79,
   "metadata": {},
   "outputs": [
    {
     "data": {
      "text/html": [
       "<div>\n",
       "<style scoped>\n",
       "    .dataframe tbody tr th:only-of-type {\n",
       "        vertical-align: middle;\n",
       "    }\n",
       "\n",
       "    .dataframe tbody tr th {\n",
       "        vertical-align: top;\n",
       "    }\n",
       "\n",
       "    .dataframe thead th {\n",
       "        text-align: right;\n",
       "    }\n",
       "</style>\n",
       "<table border=\"1\" class=\"dataframe\">\n",
       "  <thead>\n",
       "    <tr style=\"text-align: right;\">\n",
       "      <th></th>\n",
       "      <th>Open</th>\n",
       "      <th>OpenLag1</th>\n",
       "      <th>OpenDiff</th>\n",
       "    </tr>\n",
       "    <tr>\n",
       "      <th>Date</th>\n",
       "      <th></th>\n",
       "      <th></th>\n",
       "      <th></th>\n",
       "    </tr>\n",
       "  </thead>\n",
       "  <tbody>\n",
       "    <tr>\n",
       "      <th>2001-01-02 00:00:00-05:00</th>\n",
       "      <td>1320.280029</td>\n",
       "      <td>NaN</td>\n",
       "      <td>NaN</td>\n",
       "    </tr>\n",
       "    <tr>\n",
       "      <th>2001-01-03 00:00:00-05:00</th>\n",
       "      <td>1283.270020</td>\n",
       "      <td>1320.280029</td>\n",
       "      <td>-37.010010</td>\n",
       "    </tr>\n",
       "    <tr>\n",
       "      <th>2001-01-04 00:00:00-05:00</th>\n",
       "      <td>1347.560059</td>\n",
       "      <td>1283.270020</td>\n",
       "      <td>64.290039</td>\n",
       "    </tr>\n",
       "    <tr>\n",
       "      <th>2001-01-05 00:00:00-05:00</th>\n",
       "      <td>1333.339966</td>\n",
       "      <td>1347.560059</td>\n",
       "      <td>-14.220093</td>\n",
       "    </tr>\n",
       "    <tr>\n",
       "      <th>2001-01-08 00:00:00-05:00</th>\n",
       "      <td>1298.349976</td>\n",
       "      <td>1333.339966</td>\n",
       "      <td>-34.989990</td>\n",
       "    </tr>\n",
       "  </tbody>\n",
       "</table>\n",
       "</div>"
      ],
      "text/plain": [
       "                                  Open     OpenLag1   OpenDiff\n",
       "Date                                                          \n",
       "2001-01-02 00:00:00-05:00  1320.280029          NaN        NaN\n",
       "2001-01-03 00:00:00-05:00  1283.270020  1320.280029 -37.010010\n",
       "2001-01-04 00:00:00-05:00  1347.560059  1283.270020  64.290039\n",
       "2001-01-05 00:00:00-05:00  1333.339966  1347.560059 -14.220093\n",
       "2001-01-08 00:00:00-05:00  1298.349976  1333.339966 -34.989990"
      ]
     },
     "execution_count": 79,
     "metadata": {},
     "output_type": "execute_result"
    }
   ],
   "source": [
    "pd.DataFrame({\n",
    "    \"Open\": open,\n",
    "    \"OpenLag1\": open.shift(1),\n",
    "    \"OpenDiff\": open_diff\n",
    "}).head(5)"
   ]
  },
  {
   "cell_type": "markdown",
   "metadata": {
    "slideshow": {
     "slide_type": "slide"
    }
   },
   "source": [
    "scikit-learn offre un metodo `diff(n)` per ottenere direttamente la differenza tra una serie e il suo `shift(n)`"
   ]
  },
  {
   "cell_type": "code",
   "execution_count": 80,
   "metadata": {},
   "outputs": [
    {
     "data": {
      "text/plain": [
       "Date\n",
       "2001-01-02 00:00:00-05:00          NaN\n",
       "2001-01-03 00:00:00-05:00   -37.010010\n",
       "2001-01-04 00:00:00-05:00    64.290039\n",
       "2001-01-05 00:00:00-05:00   -14.220093\n",
       "2001-01-08 00:00:00-05:00   -34.989990\n",
       "Name: Open, dtype: float64"
      ]
     },
     "execution_count": 80,
     "metadata": {},
     "output_type": "execute_result"
    }
   ],
   "source": [
    "open.diff()   .head()"
   ]
  },
  {
   "cell_type": "markdown",
   "metadata": {},
   "source": [
    "Il metodo `equals` permette di verificare che una serie (o frame) sia identica ad un'altra"
   ]
  },
  {
   "cell_type": "code",
   "execution_count": 81,
   "metadata": {},
   "outputs": [
    {
     "data": {
      "text/plain": [
       "True"
      ]
     },
     "execution_count": 81,
     "metadata": {},
     "output_type": "execute_result"
    }
   ],
   "source": [
    "open.diff() .equals( open - open.shift(1) )"
   ]
  },
  {
   "cell_type": "markdown",
   "metadata": {
    "slideshow": {
     "slide_type": "slide"
    }
   },
   "source": [
    "Aggiungiamo ad esempio alle feature le differenze da un giorno all'altro dei valori di `high` e `low`, ovvero i massimi e minimi di giornata\n",
    "\n",
    "- tenere presente che ad ogni giornata $d$ non conosciamo subito $H_d$ e $L_d$, per cui utilizziamo invece $H_{d-1}$ e $L_{d-1}$\n",
    "- ad es., per ottenere $H_{d-1}-H_{d-2}$, $H_{d-2}-H_{d-3}$ e $H_{d-3}-H_{d-4}$ prendiamo $H_{d}-H_{d-1}$ e applichiamo lo `shift` di 1, 2 e 3 giorni\n",
    "- _evitiamo quì di usare le differenze $O_d$ e $C_{d-1}$, in quanto in questi dati sono molto correlate a $\\Delta_d$_"
   ]
  },
  {
   "cell_type": "code",
   "execution_count": 82,
   "metadata": {},
   "outputs": [],
   "source": [
    "for n in range(1, 4): # n da 1 a 3\n",
    "    features[\"HighDiff{}\".format(n)] = high.diff().shift(n)\n",
    "    features[\"LowDiff{}\".format(n)] = low.diff().shift(n)"
   ]
  },
  {
   "cell_type": "markdown",
   "metadata": {},
   "source": [
    "Usiamo la funzione `prepare_data` definita sopra per creare il dataset completo con le variabili scelte"
   ]
  },
  {
   "cell_type": "code",
   "execution_count": 83,
   "metadata": {},
   "outputs": [],
   "source": [
    "X, y = prepare_data(features, delta)"
   ]
  },
  {
   "cell_type": "markdown",
   "metadata": {
    "slideshow": {
     "slide_type": "slide"
    }
   },
   "source": [
    "Possiamo visualizzare le prime righe del frame con le variabili generate"
   ]
  },
  {
   "cell_type": "code",
   "execution_count": 84,
   "metadata": {},
   "outputs": [
    {
     "data": {
      "text/html": [
       "<div>\n",
       "<style scoped>\n",
       "    .dataframe tbody tr th:only-of-type {\n",
       "        vertical-align: middle;\n",
       "    }\n",
       "\n",
       "    .dataframe tbody tr th {\n",
       "        vertical-align: top;\n",
       "    }\n",
       "\n",
       "    .dataframe thead th {\n",
       "        text-align: right;\n",
       "    }\n",
       "</style>\n",
       "<table border=\"1\" class=\"dataframe\">\n",
       "  <thead>\n",
       "    <tr style=\"text-align: right;\">\n",
       "      <th></th>\n",
       "      <th>DeltaLag1</th>\n",
       "      <th>DeltaLag2</th>\n",
       "      <th>DeltaLag3</th>\n",
       "      <th>HighDiff1</th>\n",
       "      <th>LowDiff1</th>\n",
       "      <th>HighDiff2</th>\n",
       "      <th>LowDiff2</th>\n",
       "      <th>HighDiff3</th>\n",
       "      <th>LowDiff3</th>\n",
       "    </tr>\n",
       "    <tr>\n",
       "      <th>Date</th>\n",
       "      <th></th>\n",
       "      <th></th>\n",
       "      <th></th>\n",
       "      <th></th>\n",
       "      <th></th>\n",
       "      <th></th>\n",
       "      <th></th>\n",
       "      <th></th>\n",
       "      <th></th>\n",
       "    </tr>\n",
       "  </thead>\n",
       "  <tbody>\n",
       "    <tr>\n",
       "      <th>2001-01-08 00:00:00-05:00</th>\n",
       "      <td>-34.989990</td>\n",
       "      <td>-14.220093</td>\n",
       "      <td>64.290039</td>\n",
       "      <td>-15.469971</td>\n",
       "      <td>-34.190063</td>\n",
       "      <td>2.479980</td>\n",
       "      <td>54.520020</td>\n",
       "      <td>27.479980</td>\n",
       "      <td>-1.430054</td>\n",
       "    </tr>\n",
       "    <tr>\n",
       "      <th>2001-01-09 00:00:00-05:00</th>\n",
       "      <td>-2.489990</td>\n",
       "      <td>-34.989990</td>\n",
       "      <td>-14.220093</td>\n",
       "      <td>-36.420044</td>\n",
       "      <td>-18.659912</td>\n",
       "      <td>-15.469971</td>\n",
       "      <td>-34.190063</td>\n",
       "      <td>2.479980</td>\n",
       "      <td>54.520020</td>\n",
       "    </tr>\n",
       "    <tr>\n",
       "      <th>2001-01-10 00:00:00-05:00</th>\n",
       "      <td>4.940063</td>\n",
       "      <td>-2.489990</td>\n",
       "      <td>-34.989990</td>\n",
       "      <td>13.369995</td>\n",
       "      <td>18.849976</td>\n",
       "      <td>-36.420044</td>\n",
       "      <td>-18.659912</td>\n",
       "      <td>-15.469971</td>\n",
       "      <td>-34.190063</td>\n",
       "    </tr>\n",
       "    <tr>\n",
       "      <th>2001-01-11 00:00:00-05:00</th>\n",
       "      <td>12.469971</td>\n",
       "      <td>4.940063</td>\n",
       "      <td>-2.489990</td>\n",
       "      <td>2.040039</td>\n",
       "      <td>-7.859985</td>\n",
       "      <td>13.369995</td>\n",
       "      <td>18.849976</td>\n",
       "      <td>-36.420044</td>\n",
       "      <td>-18.659912</td>\n",
       "    </tr>\n",
       "    <tr>\n",
       "      <th>2001-01-12 00:00:00-05:00</th>\n",
       "      <td>13.549927</td>\n",
       "      <td>12.469971</td>\n",
       "      <td>4.940063</td>\n",
       "      <td>18.429932</td>\n",
       "      <td>22.439941</td>\n",
       "      <td>2.040039</td>\n",
       "      <td>-7.859985</td>\n",
       "      <td>13.369995</td>\n",
       "      <td>18.849976</td>\n",
       "    </tr>\n",
       "  </tbody>\n",
       "</table>\n",
       "</div>"
      ],
      "text/plain": [
       "                           DeltaLag1  DeltaLag2  DeltaLag3  HighDiff1  \\\n",
       "Date                                                                    \n",
       "2001-01-08 00:00:00-05:00 -34.989990 -14.220093  64.290039 -15.469971   \n",
       "2001-01-09 00:00:00-05:00  -2.489990 -34.989990 -14.220093 -36.420044   \n",
       "2001-01-10 00:00:00-05:00   4.940063  -2.489990 -34.989990  13.369995   \n",
       "2001-01-11 00:00:00-05:00  12.469971   4.940063  -2.489990   2.040039   \n",
       "2001-01-12 00:00:00-05:00  13.549927  12.469971   4.940063  18.429932   \n",
       "\n",
       "                            LowDiff1  HighDiff2   LowDiff2  HighDiff3  \\\n",
       "Date                                                                    \n",
       "2001-01-08 00:00:00-05:00 -34.190063   2.479980  54.520020  27.479980   \n",
       "2001-01-09 00:00:00-05:00 -18.659912 -15.469971 -34.190063   2.479980   \n",
       "2001-01-10 00:00:00-05:00  18.849976 -36.420044 -18.659912 -15.469971   \n",
       "2001-01-11 00:00:00-05:00  -7.859985  13.369995  18.849976 -36.420044   \n",
       "2001-01-12 00:00:00-05:00  22.439941   2.040039  -7.859985  13.369995   \n",
       "\n",
       "                            LowDiff3  \n",
       "Date                                  \n",
       "2001-01-08 00:00:00-05:00  -1.430054  \n",
       "2001-01-09 00:00:00-05:00  54.520020  \n",
       "2001-01-10 00:00:00-05:00 -34.190063  \n",
       "2001-01-11 00:00:00-05:00 -18.659912  \n",
       "2001-01-12 00:00:00-05:00  18.849976  "
      ]
     },
     "execution_count": 84,
     "metadata": {},
     "output_type": "execute_result"
    }
   ],
   "source": [
    "X.head(5)"
   ]
  },
  {
   "cell_type": "markdown",
   "metadata": {
    "slideshow": {
     "slide_type": "slide"
    }
   },
   "source": [
    "### Esercizio 8: Test modelli con nuove feature\n",
    "\n",
    "- **(8a)** Addestrare sui nuovi dati un modello di regressione lasso con $\\alpha=3$ e verificare quali feature non vengono escluse\n",
    "- **(8b)** Eseguire la cross validation di un modello di regressione lineare semplice, con gli stessi criteri di suddivisione dati e valutazione usati sopra\n",
    "- **(8c)** Eseguire la grid search degli iperparametri di un modello kernel ridge, usando le stesse specifiche dell'esercizio 7"
   ]
  },
  {
   "cell_type": "code",
   "execution_count": 86,
   "metadata": {},
   "outputs": [
    {
     "data": {
      "text/plain": [
       "DeltaLag1   -0.051997\n",
       "DeltaLag2   -0.039001\n",
       "DeltaLag3    0.043048\n",
       "HighDiff1    0.000000\n",
       "LowDiff1    -0.051650\n",
       "HighDiff2   -0.007102\n",
       "LowDiff2    -0.000000\n",
       "HighDiff3    0.000000\n",
       "LowDiff3    -0.028046\n",
       "dtype: float64"
      ]
     },
     "execution_count": 86,
     "metadata": {},
     "output_type": "execute_result"
    }
   ],
   "source": [
    "# 8a\n",
    "from sklearn.linear_model import Lasso\n",
    "model = Lasso(alpha=3)\n",
    "model.fit(X, y)\n",
    "pd.Series(model.coef_, X.columns)"
   ]
  },
  {
   "cell_type": "code",
   "execution_count": 87,
   "metadata": {},
   "outputs": [
    {
     "data": {
      "text/plain": [
       "{'fit_time': array([0.00378132, 0.00229049, 0.00242496]),\n",
       " 'score_time': array([0.00183296, 0.00179648, 0.00157809]),\n",
       " 'test_score': array([ 0.04231903, -0.10271079,  0.60356483])}"
      ]
     },
     "execution_count": 87,
     "metadata": {},
     "output_type": "execute_result"
    }
   ],
   "source": [
    "# 8b\n",
    "cross_validate(LinearRegression(), X, y, cv=tss, scoring=roi_scorer)"
   ]
  },
  {
   "cell_type": "code",
   "execution_count": 88,
   "metadata": {},
   "outputs": [],
   "source": [
    "# 8c\n",
    "model = Pipeline([\n",
    "    (\"scale\", None),\n",
    "    (\"regr\", KernelRidge(kernel=\"rbf\"))\n",
    "])\n",
    "grid = {\n",
    "    \"scale\": [None, StandardScaler()],\n",
    "    \"regr__gamma\": [0.001, 0.01, 0.1],\n",
    "    \"regr__alpha\": np.logspace(-3, 2, 6)\n",
    "}\n",
    "gs = GridSearchCV(model, grid, cv=tss, scoring=roi_scorer)\n",
    "gs.fit(X, y)\n",
    "cv_results = pd.DataFrame(gs.cv_results_)"
   ]
  },
  {
   "cell_type": "code",
   "execution_count": 89,
   "metadata": {},
   "outputs": [
    {
     "data": {
      "text/html": [
       "<div>\n",
       "<style scoped>\n",
       "    .dataframe tbody tr th:only-of-type {\n",
       "        vertical-align: middle;\n",
       "    }\n",
       "\n",
       "    .dataframe tbody tr th {\n",
       "        vertical-align: top;\n",
       "    }\n",
       "\n",
       "    .dataframe thead th {\n",
       "        text-align: right;\n",
       "    }\n",
       "</style>\n",
       "<table border=\"1\" class=\"dataframe\">\n",
       "  <thead>\n",
       "    <tr style=\"text-align: right;\">\n",
       "      <th></th>\n",
       "      <th>mean_fit_time</th>\n",
       "      <th>std_fit_time</th>\n",
       "      <th>mean_score_time</th>\n",
       "      <th>std_score_time</th>\n",
       "      <th>param_regr__alpha</th>\n",
       "      <th>param_regr__gamma</th>\n",
       "      <th>param_scale</th>\n",
       "      <th>params</th>\n",
       "      <th>split0_test_score</th>\n",
       "      <th>split1_test_score</th>\n",
       "      <th>split2_test_score</th>\n",
       "      <th>mean_test_score</th>\n",
       "      <th>std_test_score</th>\n",
       "      <th>rank_test_score</th>\n",
       "    </tr>\n",
       "  </thead>\n",
       "  <tbody>\n",
       "    <tr>\n",
       "      <th>15</th>\n",
       "      <td>0.099997</td>\n",
       "      <td>0.046392</td>\n",
       "      <td>0.042471</td>\n",
       "      <td>0.009000</td>\n",
       "      <td>0.1</td>\n",
       "      <td>0.01</td>\n",
       "      <td>StandardScaler()</td>\n",
       "      <td>{'regr__alpha': 0.1, 'regr__gamma': 0.01, 'sca...</td>\n",
       "      <td>0.089293</td>\n",
       "      <td>0.002383</td>\n",
       "      <td>0.787928</td>\n",
       "      <td>0.293201</td>\n",
       "      <td>0.351619</td>\n",
       "      <td>1</td>\n",
       "    </tr>\n",
       "    <tr>\n",
       "      <th>14</th>\n",
       "      <td>0.127936</td>\n",
       "      <td>0.010449</td>\n",
       "      <td>0.031694</td>\n",
       "      <td>0.011185</td>\n",
       "      <td>0.1</td>\n",
       "      <td>0.01</td>\n",
       "      <td>None</td>\n",
       "      <td>{'regr__alpha': 0.1, 'regr__gamma': 0.01, 'sca...</td>\n",
       "      <td>0.135564</td>\n",
       "      <td>0.206851</td>\n",
       "      <td>0.490796</td>\n",
       "      <td>0.277737</td>\n",
       "      <td>0.153440</td>\n",
       "      <td>2</td>\n",
       "    </tr>\n",
       "    <tr>\n",
       "      <th>7</th>\n",
       "      <td>0.130443</td>\n",
       "      <td>0.013204</td>\n",
       "      <td>0.034379</td>\n",
       "      <td>0.010926</td>\n",
       "      <td>0.01</td>\n",
       "      <td>0.001</td>\n",
       "      <td>StandardScaler()</td>\n",
       "      <td>{'regr__alpha': 0.01, 'regr__gamma': 0.001, 's...</td>\n",
       "      <td>0.098224</td>\n",
       "      <td>-0.064361</td>\n",
       "      <td>0.679617</td>\n",
       "      <td>0.237827</td>\n",
       "      <td>0.319367</td>\n",
       "      <td>3</td>\n",
       "    </tr>\n",
       "    <tr>\n",
       "      <th>21</th>\n",
       "      <td>0.134509</td>\n",
       "      <td>0.017311</td>\n",
       "      <td>0.043400</td>\n",
       "      <td>0.007305</td>\n",
       "      <td>1.0</td>\n",
       "      <td>0.01</td>\n",
       "      <td>StandardScaler()</td>\n",
       "      <td>{'regr__alpha': 1.0, 'regr__gamma': 0.01, 'sca...</td>\n",
       "      <td>0.092093</td>\n",
       "      <td>0.067109</td>\n",
       "      <td>0.544988</td>\n",
       "      <td>0.234730</td>\n",
       "      <td>0.219622</td>\n",
       "      <td>4</td>\n",
       "    </tr>\n",
       "    <tr>\n",
       "      <th>28</th>\n",
       "      <td>0.138732</td>\n",
       "      <td>0.016215</td>\n",
       "      <td>0.044907</td>\n",
       "      <td>0.011031</td>\n",
       "      <td>10.0</td>\n",
       "      <td>0.1</td>\n",
       "      <td>None</td>\n",
       "      <td>{'regr__alpha': 10.0, 'regr__gamma': 0.1, 'sca...</td>\n",
       "      <td>0.067815</td>\n",
       "      <td>0.139187</td>\n",
       "      <td>0.496590</td>\n",
       "      <td>0.234531</td>\n",
       "      <td>0.187581</td>\n",
       "      <td>5</td>\n",
       "    </tr>\n",
       "  </tbody>\n",
       "</table>\n",
       "</div>"
      ],
      "text/plain": [
       "    mean_fit_time  std_fit_time  mean_score_time  std_score_time  \\\n",
       "15       0.099997      0.046392         0.042471        0.009000   \n",
       "14       0.127936      0.010449         0.031694        0.011185   \n",
       "7        0.130443      0.013204         0.034379        0.010926   \n",
       "21       0.134509      0.017311         0.043400        0.007305   \n",
       "28       0.138732      0.016215         0.044907        0.011031   \n",
       "\n",
       "   param_regr__alpha param_regr__gamma       param_scale  \\\n",
       "15               0.1              0.01  StandardScaler()   \n",
       "14               0.1              0.01              None   \n",
       "7               0.01             0.001  StandardScaler()   \n",
       "21               1.0              0.01  StandardScaler()   \n",
       "28              10.0               0.1              None   \n",
       "\n",
       "                                               params  split0_test_score  \\\n",
       "15  {'regr__alpha': 0.1, 'regr__gamma': 0.01, 'sca...           0.089293   \n",
       "14  {'regr__alpha': 0.1, 'regr__gamma': 0.01, 'sca...           0.135564   \n",
       "7   {'regr__alpha': 0.01, 'regr__gamma': 0.001, 's...           0.098224   \n",
       "21  {'regr__alpha': 1.0, 'regr__gamma': 0.01, 'sca...           0.092093   \n",
       "28  {'regr__alpha': 10.0, 'regr__gamma': 0.1, 'sca...           0.067815   \n",
       "\n",
       "    split1_test_score  split2_test_score  mean_test_score  std_test_score  \\\n",
       "15           0.002383           0.787928         0.293201        0.351619   \n",
       "14           0.206851           0.490796         0.277737        0.153440   \n",
       "7           -0.064361           0.679617         0.237827        0.319367   \n",
       "21           0.067109           0.544988         0.234730        0.219622   \n",
       "28           0.139187           0.496590         0.234531        0.187581   \n",
       "\n",
       "    rank_test_score  \n",
       "15                1  \n",
       "14                2  \n",
       "7                 3  \n",
       "21                4  \n",
       "28                5  "
      ]
     },
     "execution_count": 89,
     "metadata": {},
     "output_type": "execute_result"
    }
   ],
   "source": [
    "cv_results.sort_values(\"mean_test_score\", ascending=False).head(5)"
   ]
  },
  {
   "cell_type": "markdown",
   "metadata": {
    "slideshow": {
     "slide_type": "slide"
    }
   },
   "source": [
    "## Esercizi avanzati suggeriti\n",
    "\n",
    "- Testare modelli con l'aggiunta di nuove feature non considerate quì, ad es. le differenze tra valori massimi e minimi nei giorni precedenti\n",
    "- Cambiare il protocollo di trading in modo che venga svolta un'operazione di acquisto/vendita solo se il valore assoluto di $\\hat{\\Delta}_d$ supera una determinata soglia (per cui c'è più certezza di un rialzo/ribasso) e verificare come varia il ROI al variare di tale soglia\n",
    "- Eseguire test su periodi differenti e/o con titoli/indici differenti"
   ]
  }
 ],
 "metadata": {
  "kernelspec": {
   "display_name": "DIA",
   "language": "python",
   "name": "dia"
  },
  "language_info": {
   "codemirror_mode": {
    "name": "ipython",
    "version": 3
   },
   "file_extension": ".py",
   "mimetype": "text/x-python",
   "name": "python",
   "nbconvert_exporter": "python",
   "pygments_lexer": "ipython3",
   "version": "3.11.8"
  }
 },
 "nbformat": 4,
 "nbformat_minor": 4
}
